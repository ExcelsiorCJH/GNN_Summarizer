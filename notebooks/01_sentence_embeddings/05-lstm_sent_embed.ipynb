{
 "cells": [
  {
   "cell_type": "markdown",
   "metadata": {},
   "source": [
    "# Sentence Embedding using LSTM\n"
   ]
  },
  {
   "cell_type": "markdown",
   "metadata": {},
   "source": [
    "## imports"
   ]
  },
  {
   "cell_type": "code",
   "execution_count": 1,
   "metadata": {},
   "outputs": [],
   "source": [
    "import torch\n",
    "\n",
    "from transformers import AlbertTokenizer"
   ]
  },
  {
   "cell_type": "markdown",
   "metadata": {},
   "source": [
    " "
   ]
  },
  {
   "cell_type": "markdown",
   "metadata": {},
   "source": [
    "## Tokenizer"
   ]
  },
  {
   "cell_type": "code",
   "execution_count": 36,
   "metadata": {},
   "outputs": [],
   "source": [
    "tokenizer = AlbertTokenizer.from_pretrained('albert-base-v2')\n",
    "tokenizer.padding_side = 'left'"
   ]
  },
  {
   "cell_type": "code",
   "execution_count": 37,
   "metadata": {},
   "outputs": [],
   "source": [
    "sentences = ['Hello, my dog is cute', 'Hello, my cat is cute and my dog is cute']"
   ]
  },
  {
   "cell_type": "code",
   "execution_count": 38,
   "metadata": {},
   "outputs": [],
   "source": [
    "inputs = torch.cat(\n",
    "    [\n",
    "        tokenizer.encode(\n",
    "            sentences[i],\n",
    "            add_special_tokens=True,\n",
    "            max_length=128,\n",
    "            pad_to_max_length=True,\n",
    "            return_tensors='pt'\n",
    "        ) for i in range(len(sentences))]\n",
    ")\n",
    "\n",
    "# inputs"
   ]
  },
  {
   "cell_type": "code",
   "execution_count": 40,
   "metadata": {},
   "outputs": [],
   "source": [
    "# inputs"
   ]
  },
  {
   "cell_type": "markdown",
   "metadata": {},
   "source": [
    " "
   ]
  },
  {
   "cell_type": "markdown",
   "metadata": {},
   "source": [
    "## LSTM Layer"
   ]
  },
  {
   "cell_type": "code",
   "execution_count": 41,
   "metadata": {},
   "outputs": [],
   "source": [
    "import torch.nn as nn\n",
    "import torch.nn.functional as F\n",
    "\n",
    "from torch.autograd import Variable"
   ]
  },
  {
   "cell_type": "code",
   "execution_count": 61,
   "metadata": {},
   "outputs": [],
   "source": [
    "class LSTM(nn.Module):\n",
    "    def __init__(self, \n",
    "                 vocab_size, \n",
    "                 embed_dim=256,\n",
    "                 hidden_dim=128,\n",
    "                 num_layers=2,\n",
    "                 bidirectional=True,\n",
    "                 dropout=0.2):\n",
    "        super(LSTM, self).__init__()\n",
    "        \n",
    "        self.hidden_dim = hidden_dim\n",
    "        self.num_layers = num_layers\n",
    "        \n",
    "        if bidirectional:\n",
    "            self.num_directs = 2\n",
    "        else:\n",
    "            self.num_directs = 1\n",
    "        \n",
    "        self.dropout = dropout\n",
    "        self.embed = nn.Embedding(vocab_size, embed_dim)\n",
    "        self.bilstm = nn.LSTM(embed_dim, hidden_dim, \n",
    "                              num_layers=num_layers,\n",
    "                              batch_first=True, bidirectional=bidirectional)\n",
    "        self.linear = nn.Linear(self.num_directs*hidden_dim, hidden_dim)\n",
    "        \n",
    "    \n",
    "    def init_hidden(self, batch_size):\n",
    "        # (num_layers * num_directions, batch_size, hidden_size)\n",
    "        hidden = Variable(\n",
    "            torch.zeros(self.num_layers*self.num_directs, batch_size, self.hidden_dim)\n",
    "        )\n",
    "        \n",
    "        cell = Variable(\n",
    "            torch.zeros(self.num_layers*self.num_directs, batch_size, self.hidden_dim)\n",
    "        )\n",
    "        return hidden, cell\n",
    "        \n",
    "\n",
    "    def forward(self, sents):\n",
    "        x = self.embed(sents)\n",
    "        \n",
    "        h_0, cell = self.init_hidden(x.size(0))  # initial h_0\n",
    "        \n",
    "        # (batch, seq, feature)\n",
    "        output, h_n = self.bilstm(x, (h_0, cell))\n",
    "        output = torch.mean(output, dim=1)\n",
    "        output = self.linear(output)\n",
    "        return output"
   ]
  },
  {
   "cell_type": "markdown",
   "metadata": {},
   "source": [
    " "
   ]
  },
  {
   "cell_type": "markdown",
   "metadata": {},
   "source": [
    "## Setence Embedding"
   ]
  },
  {
   "cell_type": "code",
   "execution_count": 62,
   "metadata": {},
   "outputs": [],
   "source": [
    "vocab_size = tokenizer.vocab_size"
   ]
  },
  {
   "cell_type": "code",
   "execution_count": 63,
   "metadata": {},
   "outputs": [],
   "source": [
    "lstm = LSTM(vocab_size=vocab_size)"
   ]
  },
  {
   "cell_type": "code",
   "execution_count": 64,
   "metadata": {},
   "outputs": [],
   "source": [
    "output = lstm(inputs)"
   ]
  },
  {
   "cell_type": "code",
   "execution_count": 65,
   "metadata": {},
   "outputs": [
    {
     "data": {
      "text/plain": [
       "torch.Size([2, 128])"
      ]
     },
     "execution_count": 65,
     "metadata": {},
     "output_type": "execute_result"
    }
   ],
   "source": [
    "# (batch, sequence, feature)\n",
    "output.shape"
   ]
  },
  {
   "cell_type": "code",
   "execution_count": null,
   "metadata": {},
   "outputs": [],
   "source": []
  }
 ],
 "metadata": {
  "kernelspec": {
   "display_name": "PyTorch",
   "language": "python",
   "name": "pt-py36"
  },
  "language_info": {
   "codemirror_mode": {
    "name": "ipython",
    "version": 3
   },
   "file_extension": ".py",
   "mimetype": "text/x-python",
   "name": "python",
   "nbconvert_exporter": "python",
   "pygments_lexer": "ipython3",
   "version": "3.6.10"
  }
 },
 "nbformat": 4,
 "nbformat_minor": 4
}
