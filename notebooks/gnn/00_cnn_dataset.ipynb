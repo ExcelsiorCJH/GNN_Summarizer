{
 "cells": [
  {
   "cell_type": "markdown",
   "metadata": {},
   "source": [
    "# CNN/DailyMail Dataset"
   ]
  },
  {
   "cell_type": "code",
   "execution_count": 1,
   "metadata": {},
   "outputs": [],
   "source": [
    "import json\n",
    "\n",
    "import dill\n",
    "import numpy as np\n",
    "import pandas as pd\n",
    "\n",
    "from nltk import sent_tokenize"
   ]
  },
  {
   "cell_type": "code",
   "execution_count": 2,
   "metadata": {},
   "outputs": [
    {
     "name": "stdout",
     "output_type": "stream",
     "text": [
      "CPU times: user 2.88 s, sys: 364 ms, total: 3.25 s\n",
      "Wall time: 3.25 s\n"
     ]
    }
   ],
   "source": [
    "%%time\n",
    "\n",
    "data_path = '../../data/summary/data/train.json'\n",
    "with open(data_path, 'r') as f:\n",
    "    data = [json.loads(line) for line in f]"
   ]
  },
  {
   "cell_type": "code",
   "execution_count": 3,
   "metadata": {},
   "outputs": [
    {
     "data": {
      "text/plain": [
       "list"
      ]
     },
     "execution_count": 3,
     "metadata": {},
     "output_type": "execute_result"
    }
   ],
   "source": [
    "type(data)"
   ]
  },
  {
   "cell_type": "code",
   "execution_count": 7,
   "metadata": {},
   "outputs": [],
   "source": [
    "sample = data[0]"
   ]
  },
  {
   "cell_type": "code",
   "execution_count": 10,
   "metadata": {},
   "outputs": [],
   "source": [
    "text = sample['doc']\n",
    "labels = sample['labels']\n",
    "summary = sample['summaries']"
   ]
  },
  {
   "cell_type": "code",
   "execution_count": 15,
   "metadata": {},
   "outputs": [],
   "source": [
    "# sentences = sent_tokenize(text)"
   ]
  },
  {
   "cell_type": "code",
   "execution_count": 16,
   "metadata": {},
   "outputs": [],
   "source": [
    "sentences = text.split('\\n')"
   ]
  },
  {
   "cell_type": "code",
   "execution_count": 17,
   "metadata": {},
   "outputs": [
    {
     "data": {
      "text/plain": [
       "[\"by daily mail reporter last updated at 11:49 am on 5th october 2011 documents obtained under a federal freedom of information act lawsuit filed by judicial watch detail costs incurred during the first lady 's trip to africa and botswana in june - with the cost of firing up ' air force 2 ' alone amounting to $ 424,142\",\n",
       " \"the white house earlier professed the purpose of the trip was to help ' youth leadership , education , health and wellness ' in africa\",\n",
       " \"' air force 2 ' : obama waves as she boards her private plane after a week - long trip to africa in june\",\n",
       " \"costs of the flight are estimated to tally more than $ 424,000 greetings : mrs obama was met by excited children when she arrived to botswana on june 24 warm welcome : mrs obama with daughters sasha , far right , and malia , right , were greeted by traditional dancers as they arrive in gaborone , botswana judicial watch said it based the jet costs on the u.s. department of defense 's published hourly rates for the c-32a aircraft - a specifically configured military version of the boeing 757\",\n",
       " 'during the june 21 - 27 trip , the group accounted for 34.8 flight hours at $ 12,188 per hour',\n",
       " 'that does not include a tally of local transportation , secret service protection , food for the 21 family and staff members - and the cost of pre-trip preparations contributing to the final amount',\n",
       " 'those figures have yet to be disclosed',\n",
       " \"according to the release , the passenger manifests confirm the presence of obama 's daughter 's , malia and sasha on the trip\",\n",
       " \"the two girls are listed as ' senior staff\",\n",
       " \"' family safari : mrs obama , joined by her daughters sasha and malia and her mother marian robinson enjoyed a ride through madikwe game reserve during the trip encouraging : mrs obama stands with mamphela ramphele , fifth from right , and high school students after she answered students ' questions at the university of cape town in cape town , africa on june 23 playful : mrs obama ( r ) and daughters sasha ( c ) and malia take turns read to students during a visit to the emthonjeni community center in zandspruit township , johannesburg , africa on june 21 goals : mrs obama said the trip would help ' youth leadership , education , health and wellness ' in southern africa , according to the white house the manifests also list mrs obama 's mother , marian robinson , and niece and nephew , leslie and avery robinson , as well mrs. obama 's make - up and hairstylist ( carl ray and johnny wright )\",\n",
       " \"the expense records also show $ 928.44 was spent for ' bulk food ' purchases on flight\",\n",
       " 'overall , during the trip , 192 meals were served for the 21 passengers on board',\n",
       " \"the ' professed purpose ' of the trip ' was to encourage young people living in the two growing democracies to become involved in national affairs ; and during her scheduled stops in pretoria and cape town , africa and in gaborone , the capital of botswana , the first lady used the opportunity to speak on education , health and wellness issues , ' the report states\",\n",
       " \"memorable : mrs obama also took her daughters to visit nelson mandela , a visit which she called ' surreal ' family : from left , mrs obama 's niece leslie robinson , malia , archbishop desmond tutu , mrs obama , sasha obama and nephew avery robinsona at cape town stadium in africa on june 23 business : mrs obama met botswana 's president lt. gen. seretse khama ian khama during her visit mission expense records and passenger manifests from the air force related to the june 21 - 27 , 2011 trip taken by first lady obama , her family and her staff to africa and botswana , according to watchdog group judicial watch include : the malia also enjoyed a meet up with nelson mandela\",\n",
       " 'however , the trip also included visits to historical landmarks , and ended with a private family safari at a africa game reserve before the group returned to washington on june 27',\n",
       " 'judicial watch , which investigates and fights government corruption , said in a press release issued today it is investigating the purpose and itinerary of the trip',\n",
       " \"on june 28 , 2011 , the group filed a freedom of information act request seeking the mission taskings , transportation records , and passenger manifests for obama 's africa trip\",\n",
       " 'documents were only provided after judicial watch sued to obtain the documents , according to the release',\n",
       " \"' this trip was as much an opportunity for the obama family to go on a safari as it was a trip to conduct government business , ' said judicial watch president tom fitton\",\n",
       " \"' this junket wasted tax dollars and the resources of our overextended military\",\n",
       " 'no wonder we had to sue to pry loose this information']"
      ]
     },
     "execution_count": 17,
     "metadata": {},
     "output_type": "execute_result"
    }
   ],
   "source": [
    "sentences"
   ]
  },
  {
   "cell_type": "code",
   "execution_count": 19,
   "metadata": {},
   "outputs": [],
   "source": [
    "labels = labels.split('\\n')"
   ]
  },
  {
   "cell_type": "code",
   "execution_count": 20,
   "metadata": {},
   "outputs": [
    {
     "data": {
      "text/plain": [
       "['1',\n",
       " '0',\n",
       " '1',\n",
       " '1',\n",
       " '0',\n",
       " '1',\n",
       " '0',\n",
       " '0',\n",
       " '1',\n",
       " '1',\n",
       " '0',\n",
       " '1',\n",
       " '0',\n",
       " '1',\n",
       " '0',\n",
       " '0',\n",
       " '0',\n",
       " '0',\n",
       " '0',\n",
       " '0',\n",
       " '0']"
      ]
     },
     "execution_count": 20,
     "metadata": {},
     "output_type": "execute_result"
    }
   ],
   "source": [
    "labels"
   ]
  },
  {
   "cell_type": "code",
   "execution_count": null,
   "metadata": {},
   "outputs": [],
   "source": []
  }
 ],
 "metadata": {
  "kernelspec": {
   "display_name": "PyTorch",
   "language": "python",
   "name": "pytorch"
  },
  "language_info": {
   "codemirror_mode": {
    "name": "ipython",
    "version": 3
   },
   "file_extension": ".py",
   "mimetype": "text/x-python",
   "name": "python",
   "nbconvert_exporter": "python",
   "pygments_lexer": "ipython3",
   "version": "3.6.10"
  }
 },
 "nbformat": 4,
 "nbformat_minor": 4
}
