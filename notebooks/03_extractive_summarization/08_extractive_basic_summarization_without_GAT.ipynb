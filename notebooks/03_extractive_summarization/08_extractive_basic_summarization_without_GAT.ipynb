{
 "cells": [
  {
   "cell_type": "markdown",
   "metadata": {},
   "source": [
    "# Extractive Summarization using LSTM"
   ]
  },
  {
   "cell_type": "markdown",
   "metadata": {},
   "source": [
    " "
   ]
  },
  {
   "cell_type": "markdown",
   "metadata": {},
   "source": [
    "## imports"
   ]
  },
  {
   "cell_type": "code",
   "execution_count": 1,
   "metadata": {},
   "outputs": [],
   "source": [
    "import json\n",
    "import numpy as np\n",
    "import networkx as nx\n",
    "\n",
    "import torch\n",
    "import torch.nn as nn\n",
    "import torch.optim as optim\n",
    "import torch.nn.functional as F\n",
    "from torch.autograd import Variable\n",
    "from torch.utils.data import Dataset, DataLoader, random_split\n",
    "\n",
    "import torch_geometric\n",
    "from torch_geometric.nn import GATConv\n",
    "\n",
    "from transformers import AlbertTokenizer, AlbertModel, AlbertConfig\n",
    "\n",
    "from sklearn.metrics import pairwise_distances"
   ]
  },
  {
   "cell_type": "code",
   "execution_count": 2,
   "metadata": {},
   "outputs": [],
   "source": [
    "USE_CUDA = torch.cuda.is_available()\n",
    "DEVICE = torch.device(\"cuda\" if USE_CUDA else \"cpu\")"
   ]
  },
  {
   "cell_type": "code",
   "execution_count": 3,
   "metadata": {},
   "outputs": [
    {
     "data": {
      "text/plain": [
       "device(type='cuda')"
      ]
     },
     "execution_count": 3,
     "metadata": {},
     "output_type": "execute_result"
    }
   ],
   "source": [
    "DEVICE"
   ]
  },
  {
   "cell_type": "markdown",
   "metadata": {},
   "source": [
    " "
   ]
  },
  {
   "cell_type": "markdown",
   "metadata": {},
   "source": [
    " "
   ]
  },
  {
   "cell_type": "markdown",
   "metadata": {},
   "source": [
    "## Extractive Summarization architecture"
   ]
  },
  {
   "cell_type": "markdown",
   "metadata": {},
   "source": [
    "### 1) GAT Classifier"
   ]
  },
  {
   "cell_type": "code",
   "execution_count": 4,
   "metadata": {},
   "outputs": [],
   "source": [
    "class LSTM(nn.Module):\n",
    "    def __init__(self, \n",
    "                 vocab_size, \n",
    "                 embed_dim=256,\n",
    "                 hidden_dim=128,\n",
    "                 num_layers=2,\n",
    "                 bidirectional=True,\n",
    "                 dropout=0.2):\n",
    "        super(LSTM, self).__init__()\n",
    "        \n",
    "        self.hidden_dim = hidden_dim\n",
    "        self.num_layers = num_layers\n",
    "        \n",
    "        if bidirectional:\n",
    "            self.num_directs = 2\n",
    "        else:\n",
    "            self.num_directs = 1\n",
    "        \n",
    "        self.dropout = dropout\n",
    "        self.embed = nn.Embedding(vocab_size, embed_dim)\n",
    "        self.bilstm = nn.LSTM(embed_dim, hidden_dim, \n",
    "                              num_layers=num_layers,\n",
    "                              batch_first=True, bidirectional=bidirectional)\n",
    "        self.linear = nn.Linear(self.num_directs*hidden_dim, hidden_dim)\n",
    "        \n",
    "    \n",
    "    def init_hidden(self, batch_size):\n",
    "        # (num_layers * num_directions, batch_size, hidden_size)\n",
    "        hidden = Variable(\n",
    "            torch.zeros(self.num_layers*self.num_directs, batch_size, self.hidden_dim)\n",
    "        )\n",
    "        \n",
    "        cell = Variable(\n",
    "            torch.zeros(self.num_layers*self.num_directs, batch_size, self.hidden_dim)\n",
    "        )\n",
    "        return hidden, cell\n",
    "        \n",
    "\n",
    "    def forward(self, sents):\n",
    "        x = self.embed(sents)\n",
    "        \n",
    "        h_0, cell = self.init_hidden(x.size(0))  # initial h_0\n",
    "        h_0, cell = h_0.to(DEVICE), cell.to(DEVICE)\n",
    "        \n",
    "        # (batch, seq, feature)\n",
    "        output, h_n = self.bilstm(x, (h_0, cell))\n",
    "        output = torch.mean(output, dim=1)\n",
    "        output = self.linear(output)\n",
    "        return output"
   ]
  },
  {
   "cell_type": "markdown",
   "metadata": {},
   "source": [
    " "
   ]
  },
  {
   "cell_type": "markdown",
   "metadata": {},
   "source": [
    "### 2) Summarizer"
   ]
  },
  {
   "cell_type": "code",
   "execution_count": 33,
   "metadata": {},
   "outputs": [],
   "source": [
    "class NaiveSummarizer(nn.Module):\n",
    "    \n",
    "    def __init__(self,  \n",
    "                 num_classes=1):\n",
    "        super(NaiveSummarizer, self).__init__()\n",
    "        \n",
    "        self.tokenizer = AlbertTokenizer.from_pretrained('albert-base-v2')\n",
    "        self.tokenizer.padding_side = 'left'\n",
    "        \n",
    "        self.embedder = LSTM(self.tokenizer.vocab_size)\n",
    "        self.lstm = nn.LSTM(128, 64, 1, batch_first=True, bidirectional=False)\n",
    "        self.fc = nn.Linear(64, num_classes)\n",
    "        \n",
    "\n",
    "        \n",
    "    def get_tokenize(self, docs):\n",
    "        sent_tokens = [\n",
    "            torch.cat(\n",
    "                [self.tokenizer.encode(\n",
    "                        sentences[i],\n",
    "                        add_special_tokens=True,\n",
    "                        max_length=64,\n",
    "                        pad_to_max_length=True,\n",
    "                        return_tensors='pt'\n",
    "                 ) for i in range(len(sentences))]\n",
    "            ) for sentences in docs\n",
    "        ]\n",
    "\n",
    "        sent_tokens = torch.cat([*sent_tokens])\n",
    "        return sent_tokens\n",
    "    \n",
    "    def get_sentence_embedding(self, word_vecs, offsets):\n",
    "        '''get node-featrues(setences embedding)'''\n",
    "        features = []\n",
    "        for idx in range(len(offsets) - 1):\n",
    "            features.append(word_vecs[ offsets[idx]: offsets[idx]+offsets[idx+1] ])\n",
    "        \n",
    "        maxlen = max(offsets)\n",
    "        features = [feature.cpu().detach().numpy() for feature in features]\n",
    "        \n",
    "        pad_features = []\n",
    "        for feature in features:\n",
    "            pad_len = maxlen - len(feature)\n",
    "            pad_features.append(\n",
    "                np.concatenate((np.zeros((pad_len, 128)), feature), axis=0)\n",
    "            )\n",
    "            \n",
    "        \n",
    "        return torch.tensor(pad_features, dtype=torch.float32).to(DEVICE)\n",
    "    \n",
    "    \n",
    "    def init_hidden(self, batch_size):\n",
    "        # (num_layers * num_directions, batch_size, hidden_size)\n",
    "        hidden = Variable(torch.zeros(1, batch_size, 64))\n",
    "        cell = Variable(torch.zeros(1, batch_size, 64))\n",
    "        return hidden, cell\n",
    "    \n",
    "\n",
    "    def forward(self, \n",
    "                docs, \n",
    "                offsets, \n",
    "                labels_list, \n",
    "                threshold=0.2, \n",
    "                batch_size=32):\n",
    "        \n",
    "        sent_tokens = self.get_tokenize(docs).to(DEVICE)\n",
    "        word_vecs = self.embedder(sent_tokens)\n",
    "        features = self.get_sentence_embedding(word_vecs, offsets)\n",
    "        \n",
    "        h_0, cell = self.init_hidden(features.size(0))  # initial h_0\n",
    "        h_0, cell = h_0.to(DEVICE), cell.to(DEVICE)\n",
    "        \n",
    "        output, h_n = self.lstm(features, (h_0, cell))\n",
    "        output = self.fc(output)\n",
    "        return output"
   ]
  },
  {
   "cell_type": "code",
   "execution_count": 34,
   "metadata": {},
   "outputs": [],
   "source": [
    "net = NaiveSummarizer(num_classes=1).to(DEVICE)"
   ]
  },
  {
   "cell_type": "markdown",
   "metadata": {},
   "source": [
    " "
   ]
  },
  {
   "cell_type": "markdown",
   "metadata": {},
   "source": [
    "## dataloader"
   ]
  },
  {
   "cell_type": "markdown",
   "metadata": {},
   "source": [
    "### 1) Summary Dataset"
   ]
  },
  {
   "cell_type": "code",
   "execution_count": 37,
   "metadata": {},
   "outputs": [
    {
     "data": {
      "text/plain": [
       "[0, 0, 0, 0, 0, 0, 0, 0]"
      ]
     },
     "execution_count": 37,
     "metadata": {},
     "output_type": "execute_result"
    }
   ],
   "source": [
    "[0] * 8"
   ]
  },
  {
   "cell_type": "code",
   "execution_count": 38,
   "metadata": {},
   "outputs": [],
   "source": [
    "def generate_batch(batch):\n",
    "    docs = [entry[0] for entry in batch]\n",
    "    labels = [entry[1] for entry in batch]\n",
    "    \n",
    "    offsets = [0] + [len(doc) for doc in docs]\n",
    "    \n",
    "    maxlen = max(offsets)\n",
    "    pad_labels = []\n",
    "    for label in labels:\n",
    "        pad_len = maxlen - len(label)\n",
    "        pad_label = [0] * pad_len + label\n",
    "        pad_labels.append(pad_label)\n",
    "        \n",
    "    return docs, offsets, pad_labels"
   ]
  },
  {
   "cell_type": "code",
   "execution_count": 39,
   "metadata": {},
   "outputs": [],
   "source": [
    "class SummaryDataset(Dataset):\n",
    "    \n",
    "    def __init__(self, path):\n",
    "        \n",
    "        with open(path, 'r', encoding='utf8') as f:\n",
    "            self.data = [json.loads(line) for line in f]\n",
    "        \n",
    "    def __len__(self):\n",
    "        \"\"\"Returns the number of data.\"\"\"\n",
    "        return len(self.data)\n",
    "    \n",
    "    def __getitem__(self, idx):\n",
    "        sentences = self.data[idx]['doc'].split('\\n')\n",
    "        labels = self.data[idx]['labels'].split('\\n')\n",
    "        labels = [int(label) for label in labels]\n",
    "        \n",
    "        return sentences, labels"
   ]
  },
  {
   "cell_type": "markdown",
   "metadata": {},
   "source": [
    " "
   ]
  },
  {
   "cell_type": "markdown",
   "metadata": {},
   "source": [
    "### 2) dataset split (train, valid, test)"
   ]
  },
  {
   "cell_type": "code",
   "execution_count": 40,
   "metadata": {},
   "outputs": [],
   "source": [
    "data_path = '../../data/summary/data/train.json'\n",
    "\n",
    "dataset = SummaryDataset(data_path)"
   ]
  },
  {
   "cell_type": "code",
   "execution_count": 41,
   "metadata": {},
   "outputs": [],
   "source": [
    "train_size = int(0.6 * len(dataset))\n",
    "valid_size = int(0.2 * len(dataset))\n",
    "test_size = len(dataset) - (train_size + valid_size)\n",
    "\n",
    "train_dataset, valid_dataset, test_dataset \\\n",
    "    = random_split(dataset, [train_size, valid_size, test_size])"
   ]
  },
  {
   "cell_type": "markdown",
   "metadata": {},
   "source": [
    " "
   ]
  },
  {
   "cell_type": "markdown",
   "metadata": {},
   "source": [
    "### 3) Dataloader for Summarizer"
   ]
  },
  {
   "cell_type": "code",
   "execution_count": 42,
   "metadata": {},
   "outputs": [],
   "source": [
    "train_dataloader = DataLoader(train_dataset, \n",
    "                              batch_size=16, \n",
    "                              shuffle=False, \n",
    "                              collate_fn=generate_batch)\n",
    "\n",
    "valid_dataloader = DataLoader(valid_dataset, \n",
    "                              batch_size=16, \n",
    "                              shuffle=False,\n",
    "                              collate_fn=generate_batch)\n",
    "\n",
    "test_dataloader = DataLoader(test_dataset, \n",
    "                             batch_size=16, \n",
    "                             shuffle=False,\n",
    "                             collate_fn=generate_batch)"
   ]
  },
  {
   "cell_type": "code",
   "execution_count": 43,
   "metadata": {},
   "outputs": [],
   "source": [
    "batch = next(iter(train_dataloader))"
   ]
  },
  {
   "cell_type": "code",
   "execution_count": 44,
   "metadata": {},
   "outputs": [],
   "source": [
    "docs, offsets, labels_list = batch"
   ]
  },
  {
   "cell_type": "code",
   "execution_count": 45,
   "metadata": {},
   "outputs": [
    {
     "name": "stdout",
     "output_type": "stream",
     "text": [
      "16\n",
      "49\n"
     ]
    }
   ],
   "source": [
    "print(len(docs))\n",
    "print(max(offsets))"
   ]
  },
  {
   "cell_type": "code",
   "execution_count": 46,
   "metadata": {},
   "outputs": [],
   "source": [
    "output = net(docs, offsets, labels_list)"
   ]
  },
  {
   "cell_type": "code",
   "execution_count": 47,
   "metadata": {},
   "outputs": [
    {
     "data": {
      "text/plain": [
       "torch.Size([16, 49, 1])"
      ]
     },
     "execution_count": 47,
     "metadata": {},
     "output_type": "execute_result"
    }
   ],
   "source": [
    "output.size()"
   ]
  },
  {
   "cell_type": "code",
   "execution_count": 48,
   "metadata": {},
   "outputs": [],
   "source": [
    "criterion = nn.BCEWithLogitsLoss()\n",
    "optimizer = optim.Adam(net.parameters(), lr=0.001)"
   ]
  },
  {
   "cell_type": "code",
   "execution_count": 49,
   "metadata": {},
   "outputs": [],
   "source": [
    "labels_list = [torch.tensor(labels, dtype=torch.float) for labels in labels_list]\n",
    "\n",
    "labels = torch.cat(labels_list)\n",
    "labels = labels.view(-1, output.size()[1])\n",
    "labels = labels.to(DEVICE)"
   ]
  },
  {
   "cell_type": "code",
   "execution_count": 50,
   "metadata": {},
   "outputs": [],
   "source": [
    "optimizer.zero_grad()\n",
    "\n",
    "output = output.view(-1, output.size()[1])\n",
    "loss = criterion(output, labels)\n",
    "loss.backward()\n",
    "optimizer.step()"
   ]
  },
  {
   "cell_type": "code",
   "execution_count": 51,
   "metadata": {},
   "outputs": [
    {
     "data": {
      "text/plain": [
       "tensor(0.7017, device='cuda:0', grad_fn=<BinaryCrossEntropyWithLogitsBackward>)"
      ]
     },
     "execution_count": 51,
     "metadata": {},
     "output_type": "execute_result"
    }
   ],
   "source": [
    "loss"
   ]
  },
  {
   "cell_type": "code",
   "execution_count": null,
   "metadata": {},
   "outputs": [],
   "source": []
  }
 ],
 "metadata": {
  "kernelspec": {
   "display_name": "Python 3",
   "language": "python",
   "name": "python3"
  },
  "language_info": {
   "codemirror_mode": {
    "name": "ipython",
    "version": 3
   },
   "file_extension": ".py",
   "mimetype": "text/x-python",
   "name": "python",
   "nbconvert_exporter": "python",
   "pygments_lexer": "ipython3",
   "version": "3.6.10"
  }
 },
 "nbformat": 4,
 "nbformat_minor": 4
}
