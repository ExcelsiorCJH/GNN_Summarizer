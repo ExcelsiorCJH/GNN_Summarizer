{
 "cells": [
  {
   "cell_type": "markdown",
   "metadata": {},
   "source": [
    "# Extractive Summarization with Batch"
   ]
  },
  {
   "cell_type": "markdown",
   "metadata": {},
   "source": [
    " "
   ]
  },
  {
   "cell_type": "markdown",
   "metadata": {},
   "source": [
    "## imports"
   ]
  },
  {
   "cell_type": "code",
   "execution_count": 1,
   "metadata": {},
   "outputs": [],
   "source": [
    "import json\n",
    "import numpy as np\n",
    "import networkx as nx\n",
    "\n",
    "import torch\n",
    "import torch.nn as nn\n",
    "import torch.optim as optim\n",
    "import torch.nn.functional as F\n",
    "from torch.autograd import Variable\n",
    "from torch.utils.data import Dataset, DataLoader, random_split\n",
    "\n",
    "import torch_geometric\n",
    "from torch_geometric.nn import GATConv\n",
    "\n",
    "from transformers import AlbertTokenizer, AlbertModel, AlbertConfig\n",
    "\n",
    "from sklearn.metrics import pairwise_distances"
   ]
  },
  {
   "cell_type": "code",
   "execution_count": 2,
   "metadata": {},
   "outputs": [],
   "source": [
    "USE_CUDA = torch.cuda.is_available()\n",
    "DEVICE = torch.device(\"cuda\" if USE_CUDA else \"cpu\")"
   ]
  },
  {
   "cell_type": "code",
   "execution_count": 3,
   "metadata": {},
   "outputs": [
    {
     "data": {
      "text/plain": [
       "device(type='cuda')"
      ]
     },
     "execution_count": 3,
     "metadata": {},
     "output_type": "execute_result"
    }
   ],
   "source": [
    "DEVICE"
   ]
  },
  {
   "cell_type": "markdown",
   "metadata": {},
   "source": [
    " "
   ]
  },
  {
   "cell_type": "markdown",
   "metadata": {},
   "source": [
    " "
   ]
  },
  {
   "cell_type": "markdown",
   "metadata": {},
   "source": [
    "## Extractive Summarization architecture"
   ]
  },
  {
   "cell_type": "markdown",
   "metadata": {},
   "source": [
    "### 1) GAT Classifier"
   ]
  },
  {
   "cell_type": "code",
   "execution_count": 4,
   "metadata": {},
   "outputs": [],
   "source": [
    "class GATClassifier(nn.Module):\n",
    "    def __init__(self, in_dim, hidden_dim, out_dim, num_heads, num_classes=1):\n",
    "        super().__init__()\n",
    "        \n",
    "        self.out_head = 1\n",
    "        self.out_dim = out_dim\n",
    "        \n",
    "        self.conv1 = GATConv(in_dim, hidden_dim, heads=num_heads, dropout=0.6)\n",
    "        self.conv2 = GATConv(hidden_dim * num_heads, out_dim, concat=False,\n",
    "                             heads=self.out_head, dropout=0.6)\n",
    "        \n",
    "        self.lstm = nn.LSTM(out_dim, 32, 1, batch_first=True, bidirectional=False)\n",
    "        self.fc = nn.Linear(32, num_classes)\n",
    "        \n",
    "    \n",
    "    def init_hidden(self, batch_size):\n",
    "        # (num_layers * num_directions, batch_size, hidden_size)\n",
    "        hidden = Variable(torch.zeros(1, batch_size, 32), )\n",
    "        cell = Variable(torch.zeros(1, batch_size, 32))\n",
    "        return hidden, cell\n",
    "    \n",
    "\n",
    "    def forward(self, data):\n",
    "        x, edge_index = data.x.to(DEVICE), data.edge_index.to(DEVICE)\n",
    "        \n",
    "        x = F.dropout(x, p=0.6, training=True)\n",
    "        x = self.conv1(x, edge_index)\n",
    "        x = F.elu(x)\n",
    "        x = F.dropout(x, p=0.6, training=True)\n",
    "        x = self.conv2(x, edge_index)\n",
    "        x = x.view(-1, x.size(0), self.out_dim)\n",
    "        \n",
    "        h_0, cell = self.init_hidden(x.size(0))  # initial h_0\n",
    "        h_0, cell = h_0.to(DEVICE), cell.to(DEVICE)\n",
    "        output, h_n = self.lstm(x, (h_0, cell))\n",
    "        \n",
    "        # many-to-many\n",
    "        output = self.fc(output)\n",
    "        \n",
    "        return output"
   ]
  },
  {
   "cell_type": "markdown",
   "metadata": {},
   "source": [
    " "
   ]
  },
  {
   "cell_type": "markdown",
   "metadata": {},
   "source": [
    "### 2) Summarizer"
   ]
  },
  {
   "cell_type": "code",
   "execution_count": 7,
   "metadata": {},
   "outputs": [],
   "source": [
    "class Summarizer(nn.Module):\n",
    "    \n",
    "    def __init__(self, \n",
    "                 in_dim, \n",
    "                 hidden_dim, \n",
    "                 out_dim, \n",
    "                 num_heads, \n",
    "                 num_classes=2):\n",
    "        super(Summarizer, self).__init__()\n",
    "        \n",
    "        albert_base_configuration = AlbertConfig(\n",
    "            hidden_size=256,\n",
    "            num_attention_heads=4,\n",
    "            intermediate_size=1024,\n",
    "        )\n",
    "        \n",
    "        self.tokenizer = AlbertTokenizer.from_pretrained('albert-base-v2')\n",
    "        self.embedder = AlbertModel(albert_base_configuration)\n",
    "        self.gat_classifier = GATClassifier(in_dim, hidden_dim, out_dim, num_heads, num_classes)\n",
    "\n",
    "        \n",
    "    def get_tokenize(self, docs):\n",
    "        sent_tokens = [\n",
    "            torch.cat(\n",
    "                [self.tokenizer.encode(\n",
    "                        sentences[i],\n",
    "                        add_special_tokens=True,\n",
    "                        max_length=64,\n",
    "                        pad_to_max_length=True,\n",
    "                        return_tensors='pt'\n",
    "                 ) for i in range(len(sentences))]\n",
    "            ) for sentences in docs\n",
    "        ]\n",
    "\n",
    "        sent_tokens = torch.cat([*sent_tokens])\n",
    "        return sent_tokens\n",
    "    \n",
    "    def get_sentence_embedding(self, word_vecs, offsets):\n",
    "        '''get node-featrues(setences embedding)'''\n",
    "        docs = []\n",
    "        for idx in range(len(offsets) - 1):\n",
    "            docs.append(word_vecs[ offsets[idx]: offsets[idx]+offsets[idx+1] ])\n",
    "        \n",
    "        features = [torch.mean(doc, dim=1).squeeze() for doc in docs]\n",
    "        return features\n",
    "    \n",
    "    def build_graph(self, features_list, threshold=0.2):\n",
    "        '''get edge_index for GATLayer'''\n",
    "        edge_index_list = []\n",
    "        for features in features_list:\n",
    "            features = features.cpu()\n",
    "            cosine_matrix = 1 - pairwise_distances(features.detach().numpy(), metric=\"cosine\")\n",
    "            adj_matrix = (cosine_matrix > threshold) * 1\n",
    "\n",
    "            G = nx.from_numpy_matrix(adj_matrix)\n",
    "\n",
    "            e1_list = [e1 for e1, _ in list(G.edges)]\n",
    "            e2_list = [e2 for _, e2 in list(G.edges)]\n",
    "            edge_index = [e1_list, e2_list]\n",
    "            edge_index = torch.tensor(edge_index)\n",
    "            edge_index_list.append(edge_index)\n",
    "\n",
    "        return edge_index_list\n",
    "    \n",
    "    def gat_dataloader(self, features_list, edge_index_list, labels_list, batch_size):\n",
    "        data_list = [\n",
    "            torch_geometric.data.Data(features, edge_index, y=labels)\n",
    "                for features, edge_index, labels in zip(features_list, edge_index_list, labels_list)\n",
    "        ]\n",
    "\n",
    "        gat_loader = torch_geometric.data.DataLoader(data_list, batch_size=batch_size, shuffle=False)\n",
    "        return gat_loader\n",
    "    \n",
    "\n",
    "    def forward(self, \n",
    "                docs, \n",
    "                offsets, \n",
    "                labels_list, \n",
    "                threshold=0.2, \n",
    "                batch_size=32):\n",
    "        \n",
    "        sent_tokens = self.get_tokenize(docs).to(DEVICE)\n",
    "        word_vecs = self.embedder(sent_tokens)[0]\n",
    "        features_list = self.get_sentence_embedding(word_vecs, offsets)\n",
    "        edge_index_list = self.build_graph(features_list, threshold)\n",
    "        \n",
    "        # dataloader for GATLayer\n",
    "        dataloader = self.gat_dataloader(features_list, edge_index_list, labels_list, batch_size)\n",
    "        \n",
    "        output = self.gat_classifier(next(iter(dataloader)))\n",
    "        return output"
   ]
  },
  {
   "cell_type": "code",
   "execution_count": 8,
   "metadata": {},
   "outputs": [],
   "source": [
    "net = Summarizer(in_dim=256,\n",
    "                 hidden_dim=128,\n",
    "                 out_dim=64,\n",
    "                 num_heads=2,\n",
    "                 num_classes=1).to(DEVICE)"
   ]
  },
  {
   "cell_type": "markdown",
   "metadata": {},
   "source": [
    " "
   ]
  },
  {
   "cell_type": "markdown",
   "metadata": {},
   "source": [
    "## dataloader"
   ]
  },
  {
   "cell_type": "markdown",
   "metadata": {},
   "source": [
    "### 1) Summary Dataset"
   ]
  },
  {
   "cell_type": "code",
   "execution_count": 9,
   "metadata": {},
   "outputs": [],
   "source": [
    "def generate_batch(batch):\n",
    "    docs = [entry[0] for entry in batch]\n",
    "    labels = [entry[1] for entry in batch]\n",
    "    \n",
    "    offsets = [0] + [len(doc) for doc in docs]\n",
    "        \n",
    "    return docs, offsets, labels"
   ]
  },
  {
   "cell_type": "code",
   "execution_count": 10,
   "metadata": {},
   "outputs": [],
   "source": [
    "class SummaryDataset(Dataset):\n",
    "    \n",
    "    def __init__(self, path):\n",
    "        \n",
    "        with open(path, 'r') as f:\n",
    "            self.data = [json.loads(line) for line in f]\n",
    "        \n",
    "    def __len__(self):\n",
    "        \"\"\"Returns the number of data.\"\"\"\n",
    "        return len(self.data)\n",
    "    \n",
    "    def __getitem__(self, idx):\n",
    "        sentences = self.data[idx]['doc'].split('\\n')\n",
    "        labels = self.data[idx]['labels'].split('\\n')\n",
    "        labels = [int(label) for label in labels]\n",
    "        \n",
    "        return sentences, labels"
   ]
  },
  {
   "cell_type": "markdown",
   "metadata": {},
   "source": [
    " "
   ]
  },
  {
   "cell_type": "markdown",
   "metadata": {},
   "source": [
    "### 2) dataset split (train, valid, test)"
   ]
  },
  {
   "cell_type": "code",
   "execution_count": 11,
   "metadata": {},
   "outputs": [],
   "source": [
    "data_path = '../../data/summary/data/train.json'\n",
    "\n",
    "dataset = SummaryDataset(data_path)"
   ]
  },
  {
   "cell_type": "code",
   "execution_count": 12,
   "metadata": {},
   "outputs": [],
   "source": [
    "train_size = int(0.6 * len(dataset))\n",
    "valid_size = int(0.2 * len(dataset))\n",
    "test_size = len(dataset) - (train_size + valid_size)\n",
    "\n",
    "train_dataset, valid_dataset, test_dataset \\\n",
    "    = random_split(dataset, [train_size, valid_size, test_size])"
   ]
  },
  {
   "cell_type": "markdown",
   "metadata": {},
   "source": [
    " "
   ]
  },
  {
   "cell_type": "markdown",
   "metadata": {},
   "source": [
    "### 3) Dataloader for Summarizer"
   ]
  },
  {
   "cell_type": "code",
   "execution_count": 13,
   "metadata": {},
   "outputs": [],
   "source": [
    "train_dataloader = DataLoader(train_dataset, \n",
    "                              batch_size=8, \n",
    "                              shuffle=False, \n",
    "                              collate_fn=generate_batch)\n",
    "\n",
    "valid_dataloader = DataLoader(valid_dataset, \n",
    "                              batch_size=8, \n",
    "                              shuffle=False,\n",
    "                              collate_fn=generate_batch)\n",
    "\n",
    "test_dataloader = DataLoader(test_dataset, \n",
    "                             batch_size=8, \n",
    "                             shuffle=False,\n",
    "                             collate_fn=generate_batch)"
   ]
  },
  {
   "cell_type": "code",
   "execution_count": 14,
   "metadata": {},
   "outputs": [],
   "source": [
    "batch = next(iter(train_dataloader))"
   ]
  },
  {
   "cell_type": "code",
   "execution_count": 15,
   "metadata": {},
   "outputs": [],
   "source": [
    "docs, offsets, labels_list = batch"
   ]
  },
  {
   "cell_type": "code",
   "execution_count": 16,
   "metadata": {},
   "outputs": [],
   "source": [
    "output = net(docs, offsets, labels_list)"
   ]
  },
  {
   "cell_type": "code",
   "execution_count": 17,
   "metadata": {},
   "outputs": [],
   "source": [
    "# output"
   ]
  },
  {
   "cell_type": "code",
   "execution_count": 18,
   "metadata": {},
   "outputs": [],
   "source": [
    "criterion = nn.BCEWithLogitsLoss()\n",
    "optimizer = optim.Adam(net.parameters(), lr=0.001)"
   ]
  },
  {
   "cell_type": "code",
   "execution_count": 19,
   "metadata": {},
   "outputs": [],
   "source": [
    "labels_list = [torch.tensor(labels, dtype=torch.float) for labels in labels_list]\n",
    "\n",
    "labels = torch.cat(labels_list)\n",
    "labels = labels.view(-1, output.size()[1])\n",
    "labels = labels.to(DEVICE)"
   ]
  },
  {
   "cell_type": "code",
   "execution_count": 20,
   "metadata": {},
   "outputs": [],
   "source": [
    "optimizer.zero_grad()\n",
    "\n",
    "output = output.view(-1, output.size()[1])\n",
    "loss = criterion(output, labels)\n",
    "loss.backward()\n",
    "optimizer.step()"
   ]
  },
  {
   "cell_type": "code",
   "execution_count": 21,
   "metadata": {},
   "outputs": [
    {
     "data": {
      "text/plain": [
       "tensor(0.7431, device='cuda:0', grad_fn=<BinaryCrossEntropyWithLogitsBackward>)"
      ]
     },
     "execution_count": 21,
     "metadata": {},
     "output_type": "execute_result"
    }
   ],
   "source": [
    "loss"
   ]
  },
  {
   "cell_type": "code",
   "execution_count": null,
   "metadata": {},
   "outputs": [],
   "source": []
  }
 ],
 "metadata": {
  "kernelspec": {
   "display_name": "PyTorch",
   "language": "python",
   "name": "pytorch"
  },
  "language_info": {
   "codemirror_mode": {
    "name": "ipython",
    "version": 3
   },
   "file_extension": ".py",
   "mimetype": "text/x-python",
   "name": "python",
   "nbconvert_exporter": "python",
   "pygments_lexer": "ipython3",
   "version": "3.6.10"
  }
 },
 "nbformat": 4,
 "nbformat_minor": 4
}
