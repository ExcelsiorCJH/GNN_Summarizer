{
 "cells": [
  {
   "cell_type": "markdown",
   "metadata": {},
   "source": [
    "# Extractive Summarization with Batch"
   ]
  },
  {
   "cell_type": "markdown",
   "metadata": {},
   "source": [
    " "
   ]
  },
  {
   "cell_type": "markdown",
   "metadata": {},
   "source": [
    "## imports"
   ]
  },
  {
   "cell_type": "code",
   "execution_count": 1,
   "metadata": {},
   "outputs": [],
   "source": [
    "import json\n",
    "import numpy as np\n",
    "import networkx as nx\n",
    "\n",
    "import torch\n",
    "import torch.nn as nn\n",
    "import torch.optim as optim\n",
    "import torch.nn.functional as F\n",
    "from torch.autograd import Variable\n",
    "\n",
    "from transformers import AlbertTokenizer, AlbertModel\n",
    "\n",
    "from sklearn.metrics import pairwise_distances"
   ]
  },
  {
   "cell_type": "markdown",
   "metadata": {},
   "source": [
    " "
   ]
  },
  {
   "cell_type": "markdown",
   "metadata": {},
   "source": [
    "## data load"
   ]
  },
  {
   "cell_type": "markdown",
   "metadata": {},
   "source": [
    "### 1) Sentence data"
   ]
  },
  {
   "cell_type": "code",
   "execution_count": 2,
   "metadata": {},
   "outputs": [
    {
     "name": "stdout",
     "output_type": "stream",
     "text": [
      "CPU times: user 3.05 s, sys: 288 ms, total: 3.34 s\n",
      "Wall time: 3.34 s\n"
     ]
    }
   ],
   "source": [
    "%%time\n",
    "\n",
    "data_path = '../../data/summary/data/train.json'\n",
    "with open(data_path, 'r') as f:\n",
    "    data = [json.loads(line) for line in f]"
   ]
  },
  {
   "cell_type": "code",
   "execution_count": 3,
   "metadata": {},
   "outputs": [],
   "source": [
    "# data"
   ]
  },
  {
   "cell_type": "code",
   "execution_count": 4,
   "metadata": {},
   "outputs": [],
   "source": [
    "sample1 = data[123]\n",
    "\n",
    "text1 = sample1['doc']\n",
    "summary1 = sample1['summaries']\n",
    "labels1 = sample1['labels']\n",
    "labels1 = labels1.split('\\n')\n",
    "labels1 = [int(label) for label in labels1]\n",
    "\n",
    "sentences1 = text1.split('\\n')"
   ]
  },
  {
   "cell_type": "code",
   "execution_count": 5,
   "metadata": {},
   "outputs": [],
   "source": [
    "sample2 = data[234]\n",
    "\n",
    "text2 = sample2['doc']\n",
    "summary2 = sample2['summaries']\n",
    "labels2 = sample2['labels']\n",
    "labels2 = labels2.split('\\n')\n",
    "labels2 = [int(label) for label in labels2]\n",
    "\n",
    "sentences2 = text2.split('\\n')"
   ]
  },
  {
   "cell_type": "markdown",
   "metadata": {},
   "source": [
    " "
   ]
  },
  {
   "cell_type": "markdown",
   "metadata": {},
   "source": [
    "### 2) node-feature matrix"
   ]
  },
  {
   "cell_type": "code",
   "execution_count": 6,
   "metadata": {},
   "outputs": [],
   "source": [
    "tokenizer = AlbertTokenizer.from_pretrained('albert-base-v2')\n",
    "model = AlbertModel.from_pretrained('albert-base-v2')"
   ]
  },
  {
   "cell_type": "code",
   "execution_count": 135,
   "metadata": {},
   "outputs": [],
   "source": [
    "def get_tokenize(docs):\n",
    "    sent_tokens = [\n",
    "        torch.cat(\n",
    "            [tokenizer.encode(\n",
    "                    sentences[i],\n",
    "                    add_special_tokens=True,\n",
    "                    max_length=64,\n",
    "                    pad_to_max_length=True,\n",
    "                    return_tensors='pt'\n",
    "             ) for i in range(len(sentences))]\n",
    "        ) for sentences in docs\n",
    "    ]\n",
    "    \n",
    "    sent_tokens = torch.cat([*sent_tokens])\n",
    "    return sent_tokens"
   ]
  },
  {
   "cell_type": "code",
   "execution_count": 136,
   "metadata": {},
   "outputs": [],
   "source": [
    "docs = [sentences1, sentences2]\n",
    "\n",
    "sent_tokens = get_tokenize(docs)"
   ]
  },
  {
   "cell_type": "code",
   "execution_count": 138,
   "metadata": {},
   "outputs": [],
   "source": [
    "offsets = [0] + [inputs1.size()[0], inputs2.size()[0]]\n",
    "# inputs = torch.cat([inputs1, inputs2])"
   ]
  },
  {
   "cell_type": "code",
   "execution_count": 139,
   "metadata": {},
   "outputs": [],
   "source": [
    "outputs = model(tokens_list)\n",
    "word_vecs = outputs[0]"
   ]
  },
  {
   "cell_type": "code",
   "execution_count": 54,
   "metadata": {},
   "outputs": [],
   "source": [
    "def get_sentence_embedding(word_vecs, offsets):\n",
    "    docs = []\n",
    "    for idx in range(len(offsets) - 1):\n",
    "        docs.append(word_vecs[ offsets[idx]: offsets[idx]+offsets[idx+1] ])\n",
    "    \n",
    "    features = [torch.mean(doc, dim=1).squeeze() for doc in docs]\n",
    "    return features"
   ]
  },
  {
   "cell_type": "code",
   "execution_count": 67,
   "metadata": {},
   "outputs": [],
   "source": [
    "features_list = get_sentence_embedding(word_vecs, offsets)"
   ]
  },
  {
   "cell_type": "code",
   "execution_count": 68,
   "metadata": {},
   "outputs": [
    {
     "data": {
      "text/plain": [
       "torch.Size([20, 768])"
      ]
     },
     "execution_count": 68,
     "metadata": {},
     "output_type": "execute_result"
    }
   ],
   "source": [
    "features_list[1].size()"
   ]
  },
  {
   "cell_type": "markdown",
   "metadata": {},
   "source": [
    " "
   ]
  },
  {
   "cell_type": "markdown",
   "metadata": {},
   "source": [
    "### 3) edge_index"
   ]
  },
  {
   "cell_type": "code",
   "execution_count": 64,
   "metadata": {},
   "outputs": [],
   "source": [
    "# threshold = 0.2\n",
    "\n",
    "# cosine_matrix = 1 - pairwise_distances(features1.detach().numpy(), metric=\"cosine\")\n",
    "# adj_matrix1 = (cosine_matrix > threshold) * 1\n",
    "\n",
    "# cosine_matrix = 1 - pairwise_distances(features2.detach().numpy(), metric=\"cosine\")\n",
    "# adj_matrix2 = (cosine_matrix > threshold) * 1"
   ]
  },
  {
   "cell_type": "code",
   "execution_count": 69,
   "metadata": {},
   "outputs": [],
   "source": [
    "def build_graph(features_list, threshold=0.2):\n",
    "    '''get edge_index for GATLayer'''\n",
    "    \n",
    "    edge_index_list = []\n",
    "    for features in features_list:\n",
    "        cosine_matrix = 1 - pairwise_distances(features.detach().numpy(), metric=\"cosine\")\n",
    "        adj_matrix = (cosine_matrix > threshold) * 1\n",
    "\n",
    "        G = nx.from_numpy_matrix(adj_matrix)\n",
    "\n",
    "        e1_list = [e1 for e1, _ in list(G.edges)]\n",
    "        e2_list = [e2 for _, e2 in list(G.edges)]\n",
    "        edge_index = [e1_list, e2_list]\n",
    "        edge_index = torch.tensor(edge_index)\n",
    "        edge_index_list.append(edge_index)\n",
    "\n",
    "    return edge_index_list"
   ]
  },
  {
   "cell_type": "code",
   "execution_count": 70,
   "metadata": {},
   "outputs": [],
   "source": [
    "edge_index_list = build_graph(features_list)"
   ]
  },
  {
   "cell_type": "markdown",
   "metadata": {},
   "source": [
    " "
   ]
  },
  {
   "cell_type": "markdown",
   "metadata": {},
   "source": [
    "### 4) DataLoader for GATLayer"
   ]
  },
  {
   "cell_type": "code",
   "execution_count": 73,
   "metadata": {},
   "outputs": [],
   "source": [
    "import torch_geometric"
   ]
  },
  {
   "cell_type": "code",
   "execution_count": 76,
   "metadata": {},
   "outputs": [],
   "source": [
    "labels1 = torch.tensor(labels1, dtype=torch.float)\n",
    "labels2 = torch.tensor(labels2, dtype=torch.float)\n",
    "\n",
    "labels_list = [labels1, labels2]"
   ]
  },
  {
   "cell_type": "code",
   "execution_count": 77,
   "metadata": {},
   "outputs": [],
   "source": [
    "def gat_dataloader(features_list, edge_index_list, labels_list, batch_size):\n",
    "    data_list = [\n",
    "        torch_geometric.data.Data(features, edge_index, y=labels)\n",
    "            for features, edge_index, labels in zip(features_list, edge_index_list, labels_list)\n",
    "    ]\n",
    "    \n",
    "    gat_loader = torch_geometric.data.DataLoader(data_list, batch_size=batch_size)\n",
    "    return gat_loader"
   ]
  },
  {
   "cell_type": "code",
   "execution_count": 78,
   "metadata": {},
   "outputs": [],
   "source": [
    "gat_loader = gat_dataloader(features_list, edge_index_list, labels_list, batch_size=2)"
   ]
  },
  {
   "cell_type": "code",
   "execution_count": 85,
   "metadata": {},
   "outputs": [],
   "source": [
    "# next(iter(gat_loader))"
   ]
  },
  {
   "cell_type": "code",
   "execution_count": 82,
   "metadata": {},
   "outputs": [],
   "source": [
    "# for data in gat_loader:\n",
    "#     sample = data\n",
    "    \n",
    "# sample.num_graphs"
   ]
  },
  {
   "cell_type": "markdown",
   "metadata": {},
   "source": [
    " "
   ]
  },
  {
   "cell_type": "markdown",
   "metadata": {},
   "source": [
    "## Extractive Summarization architecture"
   ]
  },
  {
   "cell_type": "markdown",
   "metadata": {},
   "source": [
    "### 1) GAT Classifier"
   ]
  },
  {
   "cell_type": "code",
   "execution_count": 6,
   "metadata": {},
   "outputs": [],
   "source": [
    "import torch_geometric\n",
    "\n",
    "# from torch_geometric.data import Data, DataLoader\n",
    "from torch_geometric.nn import GATConv"
   ]
  },
  {
   "cell_type": "code",
   "execution_count": 7,
   "metadata": {},
   "outputs": [],
   "source": [
    "class GATClassifier(nn.Module):\n",
    "    def __init__(self, in_dim, hidden_dim, out_dim, num_heads, num_classes=1):\n",
    "        super().__init__()\n",
    "        \n",
    "        self.out_head = 1\n",
    "        self.out_dim = out_dim\n",
    "        \n",
    "        self.conv1 = GATConv(in_dim, hidden_dim, heads=num_heads, dropout=0.6)\n",
    "        self.conv2 = GATConv(hidden_dim * num_heads, out_dim, concat=False,\n",
    "                             heads=self.out_head, dropout=0.6)\n",
    "        \n",
    "        self.lstm = nn.LSTM(out_dim, 32, 1, batch_first=True, bidirectional=False)\n",
    "        self.fc = nn.Linear(32, num_classes)\n",
    "        \n",
    "    \n",
    "    def init_hidden(self, batch_size):\n",
    "        # (num_layers * num_directions, batch_size, hidden_size)\n",
    "        hidden = Variable(torch.zeros(1, batch_size, 32))\n",
    "        cell = Variable(torch.zeros(1, batch_size, 32))\n",
    "        return hidden, cell\n",
    "    \n",
    "\n",
    "    def forward(self, data):\n",
    "        x, edge_index = data.x, data.edge_index\n",
    "        \n",
    "        x = F.dropout(x, p=0.6, training=True)\n",
    "        x = self.conv1(x, edge_index)\n",
    "        x = F.elu(x)\n",
    "        x = F.dropout(x, p=0.6, training=True)\n",
    "        x = self.conv2(x, edge_index)\n",
    "        x = x.view(-1, x.size(0), self.out_dim)\n",
    "        \n",
    "        h_0, cell = self.init_hidden(x.size(0))  # initial h_0\n",
    "        \n",
    "        output, h_n = self.lstm(x, (h_0, cell))\n",
    "        \n",
    "        # many-to-many\n",
    "        output = self.fc(output)\n",
    "        \n",
    "        return output"
   ]
  },
  {
   "cell_type": "markdown",
   "metadata": {},
   "source": [
    " "
   ]
  },
  {
   "cell_type": "markdown",
   "metadata": {},
   "source": [
    "### 2) Summarizer"
   ]
  },
  {
   "cell_type": "code",
   "execution_count": 12,
   "metadata": {},
   "outputs": [],
   "source": [
    "class Summarizer(nn.Module):\n",
    "    \n",
    "    def __init__(self, \n",
    "                 in_dim, \n",
    "                 hidden_dim, \n",
    "                 out_dim, \n",
    "                 num_heads, \n",
    "                 num_classes=2):\n",
    "        super(Summarizer, self).__init__()\n",
    "        \n",
    "        self.tokenizer = AlbertTokenizer.from_pretrained('albert-base-v2')\n",
    "        self.embedder = AlbertModel.from_pretrained('albert-base-v2')\n",
    "        self.gat_classifier = GATClassifier(in_dim, hidden_dim, out_dim, num_heads, num_classes)\n",
    "\n",
    "        \n",
    "    def get_tokenize(self, docs):\n",
    "        sent_tokens = [\n",
    "            torch.cat(\n",
    "                [self.tokenizer.encode(\n",
    "                        sentences[i],\n",
    "                        add_special_tokens=True,\n",
    "                        max_length=64,\n",
    "                        pad_to_max_length=True,\n",
    "                        return_tensors='pt'\n",
    "                 ) for i in range(len(sentences))]\n",
    "            ) for sentences in docs\n",
    "        ]\n",
    "\n",
    "        sent_tokens = torch.cat([*sent_tokens])\n",
    "        return sent_tokens\n",
    "    \n",
    "    def get_sentence_embedding(self, word_vecs, offsets):\n",
    "        '''get node-featrues(setences embedding)'''\n",
    "        docs = []\n",
    "        for idx in range(len(offsets) - 1):\n",
    "            docs.append(word_vecs[ offsets[idx]: offsets[idx]+offsets[idx+1] ])\n",
    "        \n",
    "        features = [torch.mean(doc, dim=1).squeeze() for doc in docs]\n",
    "        return features\n",
    "    \n",
    "    def build_graph(self, features_list, threshold=0.2):\n",
    "        '''get edge_index for GATLayer'''\n",
    "        edge_index_list = []\n",
    "        for features in features_list:\n",
    "            cosine_matrix = 1 - pairwise_distances(features.detach().numpy(), metric=\"cosine\")\n",
    "            adj_matrix = (cosine_matrix > threshold) * 1\n",
    "\n",
    "            G = nx.from_numpy_matrix(adj_matrix)\n",
    "\n",
    "            e1_list = [e1 for e1, _ in list(G.edges)]\n",
    "            e2_list = [e2 for _, e2 in list(G.edges)]\n",
    "            edge_index = [e1_list, e2_list]\n",
    "            edge_index = torch.tensor(edge_index)\n",
    "            edge_index_list.append(edge_index)\n",
    "\n",
    "        return edge_index_list\n",
    "    \n",
    "    def get_gat_dataloader(self, features_list, edge_index_list, labels_list, batch_size):\n",
    "        data_list = [\n",
    "            torch_geometric.data.Data(features, edge_index, y=labels)\n",
    "                for features, edge_index, labels in zip(features_list, edge_index_list, labels_list)\n",
    "        ]\n",
    "\n",
    "        gat_loader = torch_geometric.data.DataLoader(data_list, batch_size=batch_size, shuffle=False)\n",
    "        return gat_loader\n",
    "    \n",
    "\n",
    "    def forward(self, \n",
    "                docs, \n",
    "                offsets, \n",
    "                labels_list, \n",
    "                threshold=0.2, \n",
    "                batch_size=32):\n",
    "        \n",
    "        sent_tokens = self.get_tokenize(docs)\n",
    "        word_vecs = self.embedder(sent_tokens)[0]\n",
    "        features_list = self.get_sentence_embedding(word_vecs, offsets)\n",
    "        edge_index_list = self.build_graph(features_list, threshold)\n",
    "        \n",
    "        # dataloader for GATLayer\n",
    "        gat_dataloader = self.get_gat_dataloader(features_list, edge_index_list, labels_list, batch_size)\n",
    "        \n",
    "        output = self.gat_classifier(next(iter(gat_dataloader)))\n",
    "        return output"
   ]
  },
  {
   "cell_type": "code",
   "execution_count": 13,
   "metadata": {},
   "outputs": [],
   "source": [
    "net = Summarizer(in_dim=768,\n",
    "                 hidden_dim=128,\n",
    "                 out_dim=64,\n",
    "                 num_heads=2,\n",
    "                 num_classes=1)"
   ]
  },
  {
   "cell_type": "code",
   "execution_count": 19,
   "metadata": {},
   "outputs": [],
   "source": [
    "docs = [sentences1, sentences2]\n",
    "offsets = [0] + [len(sentences1), len(sentences2)]\n",
    "\n",
    "labels1 = torch.tensor(labels1, dtype=torch.float)\n",
    "labels2 = torch.tensor(labels2, dtype=torch.float)\n",
    "\n",
    "labels_list = [labels1, labels2]"
   ]
  },
  {
   "cell_type": "code",
   "execution_count": 15,
   "metadata": {},
   "outputs": [],
   "source": [
    "output = net(docs, offsets, labels_list)"
   ]
  },
  {
   "cell_type": "code",
   "execution_count": 16,
   "metadata": {},
   "outputs": [],
   "source": [
    "# output"
   ]
  },
  {
   "cell_type": "code",
   "execution_count": 17,
   "metadata": {},
   "outputs": [],
   "source": [
    "criterion = nn.BCEWithLogitsLoss()\n",
    "optimizer = optim.Adam(net.parameters(), lr=0.001)"
   ]
  },
  {
   "cell_type": "code",
   "execution_count": 18,
   "metadata": {},
   "outputs": [
    {
     "ename": "NameError",
     "evalue": "name 'sample' is not defined",
     "output_type": "error",
     "traceback": [
      "\u001b[0;31m---------------------------------------------------------------------------\u001b[0m",
      "\u001b[0;31mNameError\u001b[0m                                 Traceback (most recent call last)",
      "\u001b[0;32m<ipython-input-18-a91b8a63f178>\u001b[0m in \u001b[0;36m<module>\u001b[0;34m\u001b[0m\n\u001b[0;32m----> 1\u001b[0;31m \u001b[0mlabels\u001b[0m \u001b[0;34m=\u001b[0m \u001b[0msample\u001b[0m\u001b[0;34m.\u001b[0m\u001b[0my\u001b[0m\u001b[0;34m\u001b[0m\u001b[0;34m\u001b[0m\u001b[0m\n\u001b[0m\u001b[1;32m      2\u001b[0m \u001b[0mlabels\u001b[0m \u001b[0;34m=\u001b[0m \u001b[0mlabels\u001b[0m\u001b[0;34m.\u001b[0m\u001b[0mview\u001b[0m\u001b[0;34m(\u001b[0m\u001b[0;34m-\u001b[0m\u001b[0;36m1\u001b[0m\u001b[0;34m,\u001b[0m \u001b[0moutput\u001b[0m\u001b[0;34m.\u001b[0m\u001b[0msize\u001b[0m\u001b[0;34m(\u001b[0m\u001b[0;34m)\u001b[0m\u001b[0;34m[\u001b[0m\u001b[0;36m1\u001b[0m\u001b[0;34m]\u001b[0m\u001b[0;34m)\u001b[0m\u001b[0;34m\u001b[0m\u001b[0;34m\u001b[0m\u001b[0m\n",
      "\u001b[0;31mNameError\u001b[0m: name 'sample' is not defined"
     ]
    }
   ],
   "source": [
    "labels = sample.y\n",
    "labels = labels.view(-1, output.size()[1])"
   ]
  },
  {
   "cell_type": "code",
   "execution_count": 147,
   "metadata": {},
   "outputs": [],
   "source": [
    "optimizer.zero_grad()\n",
    "\n",
    "output = output.view(-1, output.size()[1])\n",
    "loss = criterion(output, labels)\n",
    "loss.backward()\n",
    "optimizer.step()"
   ]
  },
  {
   "cell_type": "code",
   "execution_count": 148,
   "metadata": {},
   "outputs": [
    {
     "data": {
      "text/plain": [
       "tensor(0.6993, grad_fn=<BinaryCrossEntropyWithLogitsBackward>)"
      ]
     },
     "execution_count": 148,
     "metadata": {},
     "output_type": "execute_result"
    }
   ],
   "source": [
    "loss"
   ]
  },
  {
   "cell_type": "code",
   "execution_count": 20,
   "metadata": {},
   "outputs": [],
   "source": [
    "pytorch_total_params = sum(p.numel() for p in net.parameters() if p.requires_grad)"
   ]
  },
  {
   "cell_type": "code",
   "execution_count": 21,
   "metadata": {},
   "outputs": [
    {
     "data": {
      "text/plain": [
       "11910113"
      ]
     },
     "execution_count": 21,
     "metadata": {},
     "output_type": "execute_result"
    }
   ],
   "source": [
    "pytorch_total_params"
   ]
  },
  {
   "cell_type": "code",
   "execution_count": null,
   "metadata": {},
   "outputs": [],
   "source": []
  }
 ],
 "metadata": {
  "kernelspec": {
   "display_name": "PyTorch",
   "language": "python",
   "name": "pytorch"
  },
  "language_info": {
   "codemirror_mode": {
    "name": "ipython",
    "version": 3
   },
   "file_extension": ".py",
   "mimetype": "text/x-python",
   "name": "python",
   "nbconvert_exporter": "python",
   "pygments_lexer": "ipython3",
   "version": "3.6.10"
  }
 },
 "nbformat": 4,
 "nbformat_minor": 4
}
