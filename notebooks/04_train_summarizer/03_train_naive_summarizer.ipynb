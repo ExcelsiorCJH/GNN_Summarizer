{
 "cells": [
  {
   "cell_type": "markdown",
   "metadata": {},
   "source": [
    "# Train Summarizer Using PL"
   ]
  },
  {
   "cell_type": "markdown",
   "metadata": {},
   "source": [
    " "
   ]
  },
  {
   "cell_type": "markdown",
   "metadata": {},
   "source": [
    "## imports"
   ]
  },
  {
   "cell_type": "code",
   "execution_count": 1,
   "metadata": {
    "ExecuteTime": {
     "end_time": "2020-04-14T06:05:26.240630Z",
     "start_time": "2020-04-14T06:05:21.220052Z"
    }
   },
   "outputs": [
    {
     "name": "stderr",
     "output_type": "stream",
     "text": [
      "INFO:transformers.file_utils:PyTorch version 1.4.0 available.\n"
     ]
    }
   ],
   "source": [
    "import json\n",
    "from collections import OrderedDict\n",
    "\n",
    "import numpy as np\n",
    "\n",
    "import torch\n",
    "import torch.optim as optim\n",
    "import torch.nn.functional as F\n",
    "\n",
    "import pytorch_lightning as pl\n",
    "from pytorch_lightning.callbacks import ModelCheckpoint\n",
    "\n",
    "from torch.utils.data import Dataset, DataLoader, random_split\n",
    "\n",
    "from models import NaiveSummarizer\n",
    "from types_ import *"
   ]
  },
  {
   "cell_type": "code",
   "execution_count": 2,
   "metadata": {
    "ExecuteTime": {
     "end_time": "2020-04-14T06:05:26.258586Z",
     "start_time": "2020-04-14T06:05:26.252599Z"
    }
   },
   "outputs": [],
   "source": [
    "USE_CUDA = torch.cuda.is_available()\n",
    "DEVICE = torch.device(\"cuda\" if USE_CUDA else \"cpu\")"
   ]
  },
  {
   "cell_type": "code",
   "execution_count": 3,
   "metadata": {
    "ExecuteTime": {
     "end_time": "2020-04-14T06:05:26.913829Z",
     "start_time": "2020-04-14T06:05:26.904853Z"
    }
   },
   "outputs": [
    {
     "data": {
      "text/plain": [
       "device(type='cuda')"
      ]
     },
     "execution_count": 3,
     "metadata": {},
     "output_type": "execute_result"
    }
   ],
   "source": [
    "DEVICE"
   ]
  },
  {
   "cell_type": "markdown",
   "metadata": {},
   "source": [
    " "
   ]
  },
  {
   "cell_type": "markdown",
   "metadata": {},
   "source": [
    "## SummaExperiment Class with PL "
   ]
  },
  {
   "cell_type": "code",
   "execution_count": 4,
   "metadata": {
    "ExecuteTime": {
     "end_time": "2020-04-14T06:05:27.984966Z",
     "start_time": "2020-04-14T06:05:27.977985Z"
    }
   },
   "outputs": [],
   "source": [
    "class SummaryDataset(Dataset):\n",
    "    \n",
    "    def __init__(self, path):\n",
    "        \n",
    "        with open(path, 'r', encoding='utf8') as f:\n",
    "            self.data = [json.loads(line) for line in f]\n",
    "        \n",
    "    def __len__(self):\n",
    "        \"\"\"Returns the number of data.\"\"\"\n",
    "        return len(self.data)\n",
    "    \n",
    "    def __getitem__(self, idx):\n",
    "        sentences = self.data[idx]['doc'].split('\\n')\n",
    "        labels = self.data[idx]['labels'].split('\\n')\n",
    "        labels = [int(label) for label in labels]\n",
    "        \n",
    "        return sentences, labels"
   ]
  },
  {
   "cell_type": "code",
   "execution_count": 5,
   "metadata": {
    "ExecuteTime": {
     "end_time": "2020-04-14T06:05:28.485628Z",
     "start_time": "2020-04-14T06:05:28.461730Z"
    }
   },
   "outputs": [],
   "source": [
    "class SummaExperiment(pl.LightningModule):\n",
    "    \n",
    "    def __init__(self,\n",
    "                 model: NaiveSummarizer,\n",
    "                 params: dict) -> None:\n",
    "        \n",
    "        super(SummaExperiment, self).__init__()\n",
    "        \n",
    "        self.model = model\n",
    "        self.params = params\n",
    "        # self.curr_device = None\n",
    "        \n",
    "        \n",
    "    # ---------------------\n",
    "    # TRAINING\n",
    "    # ---------------------\n",
    "    def forward(self, docs, offsets, labels) -> Tensor:\n",
    "        return self.model(docs, offsets, labels)\n",
    "    \n",
    "    def loss_function(self, logits, labels):\n",
    "        labels = torch.cat(\n",
    "            [torch.tensor(label, dtype=torch.float) for label in labels]\n",
    "        )\n",
    "        labels = labels.view(-1, logits.size()[1]).to(DEVICE)\n",
    "        logits = logits.view(-1, logits.size()[1])\n",
    "        \n",
    "        bce_loss = F.binary_cross_entropy_with_logits(logits, labels)\n",
    "        return bce_loss\n",
    "    \n",
    "    def accuracy(self, logits, labels):\n",
    "        \"\"\"Computes the accuracy for multiple binary predictions\"\"\"\n",
    "\n",
    "        labels = torch.cat(\n",
    "            [torch.tensor(label, dtype=torch.float) for label in labels]\n",
    "        )\n",
    "        labels = labels.view(-1, logits.size()[1]).to(DEVICE)\n",
    "        logits = logits.view(-1, logits.size()[1])\n",
    "\n",
    "        preds = torch.round(logits)\n",
    "        corrects = (preds == labels).sum().float()\n",
    "        acc = corrects / labels.numel()\n",
    "        return acc\n",
    "    \n",
    "    \n",
    "    def training_step(self, batch, batch_idx):\n",
    "        docs, offsets, labels = batch\n",
    "        \n",
    "        logits = self.forward(docs, offsets, labels)\n",
    "        train_loss = self.loss_function(logits, labels)\n",
    "        train_acc = self.accuracy(logits, labels)\n",
    "        \n",
    "        tqdm_dict = {'train_acc': train_acc}\n",
    "        output = OrderedDict({\n",
    "            'loss': train_loss,\n",
    "            'progress_bar': tqdm_dict,\n",
    "            'log': tqdm_dict\n",
    "        })\n",
    "        return output\n",
    "    \n",
    "    def validation_step(self, batch, batch_idx):\n",
    "        docs, offsets, labels = batch\n",
    "        \n",
    "        logits = self.forward(docs, offsets, labels)\n",
    "        val_loss = self.loss_function(logits, labels)\n",
    "        \n",
    "        # acc\n",
    "        val_acc = self.accuracy(logits, labels)\n",
    "        \n",
    "        output = OrderedDict({\n",
    "            'val_loss': val_loss,\n",
    "            'val_acc': val_acc,\n",
    "        })\n",
    "        return output\n",
    "    \n",
    "    def validation_epoch_end(self, outputs):\n",
    "        \"\"\"\n",
    "        Called at the end of validation to aggregate outputs\n",
    "        :param outputs: list of individual outputs of each validation step\n",
    "        :return:\n",
    "        \"\"\"\n",
    "        val_loss_mean = 0\n",
    "        val_acc_mean = 0\n",
    "        for output in outputs:\n",
    "            val_loss_mean += output['val_loss']\n",
    "            val_acc_mean += output['val_acc']\n",
    "        \n",
    "        val_loss_mean /= len(outputs)\n",
    "        val_acc_mean /= len(outputs)\n",
    "        tqdm_dict = {'val_loss': val_loss_mean, 'val_acc': val_acc_mean}\n",
    "        result = {'progress_bar': tqdm_dict, 'log': tqdm_dict, 'val_loss': val_loss_mean}\n",
    "        return result\n",
    "    \n",
    "    \n",
    "    def test_step(self, batch, batch_idx):\n",
    "        docs, offsets, labels = batch\n",
    "        logits = self.forward(docs, offsets, labels)\n",
    "        test_loss = self.loss_function(logits, labels)\n",
    "        \n",
    "        # acc\n",
    "        test_acc = self.accuracy(logits, labels)\n",
    "        \n",
    "        output = OrderedDict({\n",
    "            'test_loss': test_loss,\n",
    "            'test_acc': test_acc,\n",
    "        })\n",
    "        return output\n",
    "    \n",
    "    # ---------------------\n",
    "    # TRAINING SETUP\n",
    "    # ---------------------\n",
    "    def configure_optimizers(self):\n",
    "        optimizer = optim.Adam(self.model.parameters(),\n",
    "                               lr=self.params['LR'],\n",
    "                               weight_decay=self.params['weight_decay'])\n",
    "        \n",
    "        return [optimizer]\n",
    "    \n",
    "    \n",
    "    @staticmethod\n",
    "    def __collate_fn(batch):\n",
    "        docs = [entry[0] for entry in batch]\n",
    "        labels = [entry[1] for entry in batch]\n",
    "\n",
    "        offsets = [0] + [len(doc) for doc in docs]\n",
    "\n",
    "        maxlen = max(offsets)\n",
    "        pad_labels = []\n",
    "        for label in labels:\n",
    "            pad_len = maxlen - len(label)\n",
    "            pad_label = [0] * pad_len + label\n",
    "            pad_labels.append(pad_label)\n",
    "\n",
    "        return docs, offsets, pad_labels\n",
    "    \n",
    "    def __dataloader(self, phase='train'):\n",
    "        \n",
    "        data_path = '../../data/summary/data/train.json'\n",
    "        dataset = SummaryDataset(data_path)\n",
    "        \n",
    "        # split - train/valid/test\n",
    "        train_size = int(0.6 * len(dataset))\n",
    "        valid_size = int(0.2 * len(dataset))\n",
    "        test_size = len(dataset) - (train_size + valid_size)\n",
    "\n",
    "        train_dataset, valid_dataset, test_dataset \\\n",
    "            = random_split(dataset, [train_size, valid_size, test_size])\n",
    "        \n",
    "        if phase == 'train':\n",
    "            loader =  DataLoader(train_dataset, \n",
    "                                 batch_size=self.params['batch_size'], \n",
    "                                 shuffle=True, \n",
    "                                 collate_fn=self.__collate_fn)\n",
    "        elif phase == 'valid':\n",
    "            loader =  DataLoader(valid_dataset, \n",
    "                                 batch_size=self.params['batch_size'], \n",
    "                                 shuffle=False, \n",
    "                                 collate_fn=self.__collate_fn)\n",
    "        elif phase == 'test':\n",
    "            loader =  DataLoader(test_dataset, \n",
    "                                 batch_size=self.params['batch_size'], \n",
    "                                 shuffle=False, \n",
    "                                 collate_fn=self.__collate_fn)\n",
    "        \n",
    "        return loader\n",
    "    \n",
    "    def train_dataloader(self):\n",
    "        # log.info('Training data loader called.')\n",
    "        print('Training data loader called.')\n",
    "        return self.__dataloader(phase='train')\n",
    "    \n",
    "    def val_dataloader(self):\n",
    "        # log.info('Validation data loader called.')\n",
    "        print('Validation data loader called.')\n",
    "        return self.__dataloader(phase='valid')\n",
    "    \n",
    "    def test_dataloader(self):\n",
    "        # log.info('Test data loader called.')\n",
    "        print('Test data loader called.')\n",
    "        return self.__dataloader(phase='test')"
   ]
  },
  {
   "cell_type": "markdown",
   "metadata": {},
   "source": [
    " "
   ]
  },
  {
   "cell_type": "markdown",
   "metadata": {},
   "source": [
    "## dataloader"
   ]
  },
  {
   "cell_type": "markdown",
   "metadata": {},
   "source": [
    "### 1) Summary Dataset"
   ]
  },
  {
   "cell_type": "code",
   "execution_count": 6,
   "metadata": {
    "ExecuteTime": {
     "end_time": "2020-04-14T06:05:30.092333Z",
     "start_time": "2020-04-14T06:05:30.087346Z"
    }
   },
   "outputs": [],
   "source": [
    "def generate_batch(batch):\n",
    "    docs = [entry[0] for entry in batch]\n",
    "    labels = [entry[1] for entry in batch]\n",
    "    \n",
    "    offsets = [0] + [len(doc) for doc in docs]\n",
    "        \n",
    "    return docs, offsets, labels"
   ]
  },
  {
   "cell_type": "code",
   "execution_count": 7,
   "metadata": {
    "ExecuteTime": {
     "end_time": "2020-04-14T06:05:30.568059Z",
     "start_time": "2020-04-14T06:05:30.561082Z"
    }
   },
   "outputs": [],
   "source": [
    "class SummaryDataset(Dataset):\n",
    "    \n",
    "    def __init__(self, path):\n",
    "        \n",
    "        with open(path, 'r', encoding='utf8') as f:\n",
    "            self.data = [json.loads(line) for line in f]\n",
    "        \n",
    "    def __len__(self):\n",
    "        \"\"\"Returns the number of data.\"\"\"\n",
    "        return len(self.data)\n",
    "    \n",
    "    def __getitem__(self, idx):\n",
    "        sentences = self.data[idx]['doc'].split('\\n')\n",
    "        labels = self.data[idx]['labels'].split('\\n')\n",
    "        labels = [int(label) for label in labels]\n",
    "        \n",
    "        return sentences, labels"
   ]
  },
  {
   "cell_type": "markdown",
   "metadata": {},
   "source": [
    " "
   ]
  },
  {
   "cell_type": "markdown",
   "metadata": {},
   "source": [
    "## Train "
   ]
  },
  {
   "cell_type": "code",
   "execution_count": 8,
   "metadata": {
    "ExecuteTime": {
     "end_time": "2020-04-14T06:05:37.299066Z",
     "start_time": "2020-04-14T06:05:31.840695Z"
    }
   },
   "outputs": [
    {
     "name": "stderr",
     "output_type": "stream",
     "text": [
      "INFO:transformers.tokenization_utils:loading file https://s3.amazonaws.com/models.huggingface.co/bert/albert-base-v2-spiece.model from cache at C:\\Users\\korea\\.cache\\torch\\transformers\\dd1588b85b6fdce1320e224d29ad062e97588e17326b9d05a0b29ee84b8f5f93.c81d4deb77aec08ce575b7a39a989a79dd54f321bfb82c2b54dd35f52f8182cf\n"
     ]
    }
   ],
   "source": [
    "hparams = {\n",
    "    'batch_size' : 32,\n",
    "    'LR': 0.001,\n",
    "    'weight_decay': 0\n",
    "}\n",
    "\n",
    "model = NaiveSummarizer(num_classes=1).to(DEVICE) \n",
    "experiment = SummaExperiment(model, hparams)"
   ]
  },
  {
   "cell_type": "code",
   "execution_count": 9,
   "metadata": {
    "ExecuteTime": {
     "end_time": "2020-04-14T06:05:37.326991Z",
     "start_time": "2020-04-14T06:05:37.318016Z"
    }
   },
   "outputs": [],
   "source": [
    "# checkpoint\n",
    "checkpoint_callback = ModelCheckpoint(\n",
    "    filepath='./checkpoints/naivesummarizer_{epoch:02d}_{val_loss:.2f}',\n",
    "    verbose=True,\n",
    "    save_top_k=3,\n",
    ")\n",
    "\n",
    "trainer = pl.Trainer(max_epochs=20,\n",
    "                     checkpoint_callback=checkpoint_callback)"
   ]
  },
  {
   "cell_type": "code",
   "execution_count": null,
   "metadata": {
    "ExecuteTime": {
     "start_time": "2020-04-14T06:05:38.098Z"
    }
   },
   "outputs": [
    {
     "name": "stderr",
     "output_type": "stream",
     "text": [
      "D:\\miniconda3\\envs\\pt-py36\\lib\\site-packages\\pytorch_lightning\\utilities\\warnings.py:18: RuntimeWarning: You have defined a `test_dataloader()` and have defined a `test_step()`, you may also want to define `test_epoch_end()` for accumulating stats.\n",
      "  warnings.warn(*args, **kwargs)\n",
      "INFO:lightning:\n",
      "  | Name                  | Type            | Params\n",
      "------------------------------------------------------\n",
      "0 | model                 | NaiveSummarizer | 8 M   \n",
      "1 | model.embedder        | LSTM            | 8 M   \n",
      "2 | model.embedder.embed  | Embedding       | 7 M   \n",
      "3 | model.embedder.bilstm | LSTM            | 790 K \n",
      "4 | model.embedder.linear | Linear          | 32 K  \n",
      "5 | model.lstm            | LSTM            | 49 K  \n",
      "6 | model.fc              | Linear          | 65    \n"
     ]
    },
    {
     "name": "stdout",
     "output_type": "stream",
     "text": [
      "Validation data loader called.\n"
     ]
    },
    {
     "data": {
      "application/vnd.jupyter.widget-view+json": {
       "model_id": "",
       "version_major": 2,
       "version_minor": 0
      },
      "text/plain": [
       "HBox(children=(FloatProgress(value=0.0, description='Validation sanity check', layout=Layout(flex='2'), max=5.…"
      ]
     },
     "metadata": {},
     "output_type": "display_data"
    },
    {
     "data": {
      "application/vnd.jupyter.widget-view+json": {
       "model_id": "4e8f9093e5684bf3aebdac0eb7e6d7f5",
       "version_major": 2,
       "version_minor": 0
      },
      "text/plain": [
       "HBox(children=(FloatProgress(value=1.0, bar_style='info', layout=Layout(flex='2'), max=1.0), HTML(value='')), …"
      ]
     },
     "metadata": {},
     "output_type": "display_data"
    },
    {
     "name": "stdout",
     "output_type": "stream",
     "text": [
      "Training data loader called.\n"
     ]
    },
    {
     "name": "stderr",
     "output_type": "stream",
     "text": [
      "D:\\miniconda3\\envs\\pt-py36\\lib\\site-packages\\pytorch_lightning\\utilities\\warnings.py:18: RuntimeWarning: Displayed epoch numbers in the progress bar start from \"1\" until v0.6.x, but will start from \"0\" in v0.8.0.\n",
      "  warnings.warn(*args, **kwargs)\n"
     ]
    },
    {
     "name": "stdout",
     "output_type": "stream",
     "text": [
      "Validation data loader called.\n"
     ]
    }
   ],
   "source": [
    "trainer.fit(experiment)"
   ]
  },
  {
   "cell_type": "code",
   "execution_count": null,
   "metadata": {},
   "outputs": [],
   "source": []
  },
  {
   "cell_type": "code",
   "execution_count": null,
   "metadata": {},
   "outputs": [],
   "source": []
  }
 ],
 "metadata": {
  "kernelspec": {
   "display_name": "Python 3",
   "language": "python",
   "name": "python3"
  },
  "language_info": {
   "codemirror_mode": {
    "name": "ipython",
    "version": 3
   },
   "file_extension": ".py",
   "mimetype": "text/x-python",
   "name": "python",
   "nbconvert_exporter": "python",
   "pygments_lexer": "ipython3",
   "version": "3.6.10"
  },
  "toc": {
   "base_numbering": 1,
   "nav_menu": {},
   "number_sections": true,
   "sideBar": true,
   "skip_h1_title": false,
   "title_cell": "Table of Contents",
   "title_sidebar": "Contents",
   "toc_cell": false,
   "toc_position": {},
   "toc_section_display": true,
   "toc_window_display": false
  },
  "varInspector": {
   "cols": {
    "lenName": 16,
    "lenType": 16,
    "lenVar": 40
   },
   "kernels_config": {
    "python": {
     "delete_cmd_postfix": "",
     "delete_cmd_prefix": "del ",
     "library": "var_list.py",
     "varRefreshCmd": "print(var_dic_list())"
    },
    "r": {
     "delete_cmd_postfix": ") ",
     "delete_cmd_prefix": "rm(",
     "library": "var_list.r",
     "varRefreshCmd": "cat(var_dic_list()) "
    }
   },
   "types_to_exclude": [
    "module",
    "function",
    "builtin_function_or_method",
    "instance",
    "_Feature"
   ],
   "window_display": false
  }
 },
 "nbformat": 4,
 "nbformat_minor": 4
}
