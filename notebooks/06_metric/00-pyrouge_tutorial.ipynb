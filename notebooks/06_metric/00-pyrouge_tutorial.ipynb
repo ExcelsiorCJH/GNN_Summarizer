{
 "cells": [
  {
   "cell_type": "markdown",
   "metadata": {},
   "source": [
    "# PyROUGE Tutorial\n",
    "\n",
    "- https://github.com/bheinzerling/pyrouge"
   ]
  },
  {
   "cell_type": "code",
   "execution_count": null,
   "metadata": {},
   "outputs": [],
   "source": []
  },
  {
   "cell_type": "code",
   "execution_count": 1,
   "metadata": {},
   "outputs": [],
   "source": [
    "from pyrouge import "
   ]
  },
  {
   "cell_type": "code",
   "execution_count": 4,
   "metadata": {},
   "outputs": [
    {
     "name": "stderr",
     "output_type": "stream",
     "text": [
      "2020-05-21 10:49:37,944 [MainThread  ] [INFO ]  Set ROUGE home directory to ./tools/ROUGE-1.5.5.\n"
     ]
    }
   ],
   "source": [
    "r = Rouge155('./tools/ROUGE-1.5.5')"
   ]
  },
  {
   "cell_type": "code",
   "execution_count": 8,
   "metadata": {},
   "outputs": [],
   "source": [
    "r.system_dir = './sample/ref'\n",
    "r.model_dir = './sample/model'\n",
    "\n",
    "r.system_filename_pattern = 'gold*.txt'\n",
    "r.model_filename_pattern = 'summ*.txt'"
   ]
  },
  {
   "cell_type": "code",
   "execution_count": 21,
   "metadata": {},
   "outputs": [
    {
     "name": "stderr",
     "output_type": "stream",
     "text": [
      "2020-05-21 11:04:24,256 [MainThread  ] [INFO ]  Writing summaries.\n",
      "2020-05-21 11:04:24,258 [MainThread  ] [INFO ]  Processing summaries. Saving system files to C:\\Users\\korea\\AppData\\Local\\Temp\\tmpr1vkjiv_\\system and model files to C:\\Users\\korea\\AppData\\Local\\Temp\\tmpr1vkjiv_\\model.\n",
      "2020-05-21 11:04:24,259 [MainThread  ] [INFO ]  Processing files in C:\\Users\\korea\\AppData\\Local\\Temp\\tmpg3yp8p9v\\system.\n",
      "2020-05-21 11:04:24,260 [MainThread  ] [INFO ]  Processing gold_01.txt.\n",
      "2020-05-21 11:04:24,268 [MainThread  ] [INFO ]  Saved processed files to C:\\Users\\korea\\AppData\\Local\\Temp\\tmpr1vkjiv_\\system.\n",
      "2020-05-21 11:04:24,270 [MainThread  ] [INFO ]  Processing files in C:\\Users\\korea\\AppData\\Local\\Temp\\tmpg3yp8p9v\\model.\n",
      "2020-05-21 11:04:24,271 [MainThread  ] [INFO ]  Processing summ_01.txt.\n",
      "2020-05-21 11:04:24,280 [MainThread  ] [INFO ]  Saved processed files to C:\\Users\\korea\\AppData\\Local\\Temp\\tmpr1vkjiv_\\model.\n"
     ]
    },
    {
     "ename": "Exception",
     "evalue": "Did not find any files matching the pattern gold*.txt in the system summaries directory C:\\Users\\korea\\AppData\\Local\\Temp\\tmpr1vkjiv_\\system.",
     "output_type": "error",
     "traceback": [
      "\u001b[1;31m---------------------------------------------------------------------------\u001b[0m",
      "\u001b[1;31mException\u001b[0m                                 Traceback (most recent call last)",
      "\u001b[1;32m<ipython-input-21-01a1b97656fc>\u001b[0m in \u001b[0;36m<module>\u001b[1;34m\u001b[0m\n\u001b[1;32m----> 1\u001b[1;33m \u001b[0moutput\u001b[0m \u001b[1;33m=\u001b[0m \u001b[0mr\u001b[0m\u001b[1;33m.\u001b[0m\u001b[0mconvert_and_evaluate\u001b[0m\u001b[1;33m(\u001b[0m\u001b[1;33m)\u001b[0m\u001b[1;33m\u001b[0m\u001b[1;33m\u001b[0m\u001b[0m\n\u001b[0m",
      "\u001b[1;32mD:\\miniconda3\\envs\\pt-py36\\lib\\site-packages\\pyrouge\\Rouge155.py\u001b[0m in \u001b[0;36mconvert_and_evaluate\u001b[1;34m(self, system_id, split_sentences, rouge_args)\u001b[0m\n\u001b[0;32m    359\u001b[0m             \u001b[0mself\u001b[0m\u001b[1;33m.\u001b[0m\u001b[0msplit_sentences\u001b[0m\u001b[1;33m(\u001b[0m\u001b[1;33m)\u001b[0m\u001b[1;33m\u001b[0m\u001b[1;33m\u001b[0m\u001b[0m\n\u001b[0;32m    360\u001b[0m         \u001b[0mself\u001b[0m\u001b[1;33m.\u001b[0m\u001b[0m__write_summaries\u001b[0m\u001b[1;33m(\u001b[0m\u001b[1;33m)\u001b[0m\u001b[1;33m\u001b[0m\u001b[1;33m\u001b[0m\u001b[0m\n\u001b[1;32m--> 361\u001b[1;33m         \u001b[0mrouge_output\u001b[0m \u001b[1;33m=\u001b[0m \u001b[0mself\u001b[0m\u001b[1;33m.\u001b[0m\u001b[0mevaluate\u001b[0m\u001b[1;33m(\u001b[0m\u001b[0msystem_id\u001b[0m\u001b[1;33m,\u001b[0m \u001b[0mrouge_args\u001b[0m\u001b[1;33m)\u001b[0m\u001b[1;33m\u001b[0m\u001b[1;33m\u001b[0m\u001b[0m\n\u001b[0m\u001b[0;32m    362\u001b[0m         \u001b[1;32mreturn\u001b[0m \u001b[0mrouge_output\u001b[0m\u001b[1;33m\u001b[0m\u001b[1;33m\u001b[0m\u001b[0m\n\u001b[0;32m    363\u001b[0m \u001b[1;33m\u001b[0m\u001b[0m\n",
      "\u001b[1;32mD:\\miniconda3\\envs\\pt-py36\\lib\\site-packages\\pyrouge\\Rouge155.py\u001b[0m in \u001b[0;36mevaluate\u001b[1;34m(self, system_id, rouge_args)\u001b[0m\n\u001b[0;32m    329\u001b[0m \u001b[1;33m\u001b[0m\u001b[0m\n\u001b[0;32m    330\u001b[0m         \"\"\"\n\u001b[1;32m--> 331\u001b[1;33m         \u001b[0mself\u001b[0m\u001b[1;33m.\u001b[0m\u001b[0mwrite_config\u001b[0m\u001b[1;33m(\u001b[0m\u001b[0msystem_id\u001b[0m\u001b[1;33m=\u001b[0m\u001b[0msystem_id\u001b[0m\u001b[1;33m)\u001b[0m\u001b[1;33m\u001b[0m\u001b[1;33m\u001b[0m\u001b[0m\n\u001b[0m\u001b[0;32m    332\u001b[0m         \u001b[0moptions\u001b[0m \u001b[1;33m=\u001b[0m \u001b[0mself\u001b[0m\u001b[1;33m.\u001b[0m\u001b[0m__get_options\u001b[0m\u001b[1;33m(\u001b[0m\u001b[0mrouge_args\u001b[0m\u001b[1;33m)\u001b[0m\u001b[1;33m\u001b[0m\u001b[1;33m\u001b[0m\u001b[0m\n\u001b[0;32m    333\u001b[0m         \u001b[0mcommand\u001b[0m \u001b[1;33m=\u001b[0m \u001b[1;33m[\u001b[0m\u001b[0mself\u001b[0m\u001b[1;33m.\u001b[0m\u001b[0m_bin_path\u001b[0m\u001b[1;33m]\u001b[0m \u001b[1;33m+\u001b[0m \u001b[0moptions\u001b[0m\u001b[1;33m\u001b[0m\u001b[1;33m\u001b[0m\u001b[0m\n",
      "\u001b[1;32mD:\\miniconda3\\envs\\pt-py36\\lib\\site-packages\\pyrouge\\Rouge155.py\u001b[0m in \u001b[0;36mwrite_config\u001b[1;34m(self, config_file_path, system_id)\u001b[0m\n\u001b[0;32m    313\u001b[0m             \u001b[0mself\u001b[0m\u001b[1;33m.\u001b[0m\u001b[0m_system_dir\u001b[0m\u001b[1;33m,\u001b[0m \u001b[0mself\u001b[0m\u001b[1;33m.\u001b[0m\u001b[0m_system_filename_pattern\u001b[0m\u001b[1;33m,\u001b[0m\u001b[1;33m\u001b[0m\u001b[1;33m\u001b[0m\u001b[0m\n\u001b[0;32m    314\u001b[0m             \u001b[0mself\u001b[0m\u001b[1;33m.\u001b[0m\u001b[0m_model_dir\u001b[0m\u001b[1;33m,\u001b[0m \u001b[0mself\u001b[0m\u001b[1;33m.\u001b[0m\u001b[0m_model_filename_pattern\u001b[0m\u001b[1;33m,\u001b[0m\u001b[1;33m\u001b[0m\u001b[1;33m\u001b[0m\u001b[0m\n\u001b[1;32m--> 315\u001b[1;33m             self._config_file, system_id)\n\u001b[0m\u001b[0;32m    316\u001b[0m         self.log.info(\n\u001b[0;32m    317\u001b[0m             \"Written ROUGE configuration to {}\".format(self._config_file))\n",
      "\u001b[1;32mD:\\miniconda3\\envs\\pt-py36\\lib\\site-packages\\pyrouge\\Rouge155.py\u001b[0m in \u001b[0;36mwrite_config_static\u001b[1;34m(system_dir, system_filename_pattern, model_dir, model_filename_pattern, config_file_path, system_id)\u001b[0m\n\u001b[0;32m    275\u001b[0m                 \u001b[1;34m\"Did not find any files matching the pattern {} \"\u001b[0m\u001b[1;33m\u001b[0m\u001b[1;33m\u001b[0m\u001b[0m\n\u001b[0;32m    276\u001b[0m                 \"in the system summaries directory {}.\".format(\n\u001b[1;32m--> 277\u001b[1;33m                     system_filename_pattern.pattern, system_dir))\n\u001b[0m\u001b[0;32m    278\u001b[0m \u001b[1;33m\u001b[0m\u001b[0m\n\u001b[0;32m    279\u001b[0m         \u001b[1;32mwith\u001b[0m \u001b[0mcodecs\u001b[0m\u001b[1;33m.\u001b[0m\u001b[0mopen\u001b[0m\u001b[1;33m(\u001b[0m\u001b[0mconfig_file_path\u001b[0m\u001b[1;33m,\u001b[0m \u001b[1;34m'w'\u001b[0m\u001b[1;33m,\u001b[0m \u001b[0mencoding\u001b[0m\u001b[1;33m=\u001b[0m\u001b[1;34m'utf-8'\u001b[0m\u001b[1;33m)\u001b[0m \u001b[1;32mas\u001b[0m \u001b[0mf\u001b[0m\u001b[1;33m:\u001b[0m\u001b[1;33m\u001b[0m\u001b[1;33m\u001b[0m\u001b[0m\n",
      "\u001b[1;31mException\u001b[0m: Did not find any files matching the pattern gold*.txt in the system summaries directory C:\\Users\\korea\\AppData\\Local\\Temp\\tmpr1vkjiv_\\system."
     ]
    }
   ],
   "source": [
    "output = r.convert_and_evaluate()"
   ]
  },
  {
   "cell_type": "code",
   "execution_count": null,
   "metadata": {},
   "outputs": [],
   "source": []
  }
 ],
 "metadata": {
  "kernelspec": {
   "display_name": "Python 3",
   "language": "python",
   "name": "python3"
  },
  "language_info": {
   "codemirror_mode": {
    "name": "ipython",
    "version": 3
   },
   "file_extension": ".py",
   "mimetype": "text/x-python",
   "name": "python",
   "nbconvert_exporter": "python",
   "pygments_lexer": "ipython3",
   "version": "3.6.10"
  }
 },
 "nbformat": 4,
 "nbformat_minor": 4
}
