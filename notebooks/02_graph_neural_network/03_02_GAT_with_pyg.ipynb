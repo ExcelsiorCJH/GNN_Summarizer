{
 "cells": [
  {
   "cell_type": "markdown",
   "metadata": {},
   "source": [
    "# Graph Attention Network using PyG"
   ]
  },
  {
   "cell_type": "markdown",
   "metadata": {},
   "source": [
    " "
   ]
  },
  {
   "cell_type": "markdown",
   "metadata": {},
   "source": [
    "## imports"
   ]
  },
  {
   "cell_type": "code",
   "execution_count": 35,
   "metadata": {},
   "outputs": [],
   "source": [
    "import json\n",
    "import numpy as np\n",
    "import networkx as nx\n",
    "\n",
    "import torch\n",
    "import torch.nn as nn\n",
    "import torch.nn.functional as F\n",
    "from torch.autograd import Variable\n",
    "\n",
    "from sentence_transformers import models\n",
    "from sentence_transformers import SentenceTransformer\n",
    "\n",
    "from dgl import DGLGraph\n",
    "from sklearn.metrics import pairwise_distances"
   ]
  },
  {
   "cell_type": "markdown",
   "metadata": {},
   "source": [
    " "
   ]
  },
  {
   "cell_type": "markdown",
   "metadata": {},
   "source": [
    "## data load"
   ]
  },
  {
   "cell_type": "markdown",
   "metadata": {},
   "source": [
    "### 1) Sentence data"
   ]
  },
  {
   "cell_type": "code",
   "execution_count": 2,
   "metadata": {},
   "outputs": [
    {
     "name": "stdout",
     "output_type": "stream",
     "text": [
      "CPU times: user 2.92 s, sys: 355 ms, total: 3.27 s\n",
      "Wall time: 3.27 s\n"
     ]
    }
   ],
   "source": [
    "%%time\n",
    "\n",
    "data_path = '../../data/summary/data/train.json'\n",
    "with open(data_path, 'r') as f:\n",
    "    data = [json.loads(line) for line in f]"
   ]
  },
  {
   "cell_type": "code",
   "execution_count": 115,
   "metadata": {},
   "outputs": [],
   "source": [
    "# data"
   ]
  },
  {
   "cell_type": "code",
   "execution_count": 137,
   "metadata": {},
   "outputs": [],
   "source": [
    "sample = data[0]\n",
    "\n",
    "text = sample['doc']\n",
    "summary = sample['summaries']\n",
    "labels = sample['labels']\n",
    "labels = labels.split('\\n')\n",
    "labels = [int(label) for label in labels]\n",
    "\n",
    "sentences = text.split('\\n')"
   ]
  },
  {
   "cell_type": "code",
   "execution_count": 116,
   "metadata": {},
   "outputs": [],
   "source": [
    "sample = data[111]\n",
    "\n",
    "text = sample['doc']\n",
    "summary = sample['summaries']\n",
    "labels = sample['labels']\n",
    "labels = labels.split('\\n')\n",
    "labels = [int(label) for label in labels]\n",
    "\n",
    "sentences = text.split('\\n')"
   ]
  },
  {
   "cell_type": "markdown",
   "metadata": {},
   "source": [
    " "
   ]
  },
  {
   "cell_type": "markdown",
   "metadata": {},
   "source": [
    "### 2) node-feature matrix"
   ]
  },
  {
   "cell_type": "code",
   "execution_count": 138,
   "metadata": {},
   "outputs": [],
   "source": [
    "embedder = SentenceTransformer('bert-base-nli-stsb-mean-tokens')\n",
    "features = embedder.encode(sentences)"
   ]
  },
  {
   "cell_type": "markdown",
   "metadata": {},
   "source": [
    " "
   ]
  },
  {
   "cell_type": "markdown",
   "metadata": {},
   "source": [
    "### 3) adjacency matrix"
   ]
  },
  {
   "cell_type": "code",
   "execution_count": 139,
   "metadata": {},
   "outputs": [],
   "source": [
    "threshold = 0.2\n",
    "\n",
    "cosine_matrix = 1 - pairwise_distances(features, metric=\"cosine\")\n",
    "adj_matrix = (cosine_matrix > threshold) * 1"
   ]
  },
  {
   "cell_type": "markdown",
   "metadata": {},
   "source": [
    " "
   ]
  },
  {
   "cell_type": "markdown",
   "metadata": {},
   "source": [
    "### 4) create Graph using Networkx"
   ]
  },
  {
   "cell_type": "code",
   "execution_count": 140,
   "metadata": {},
   "outputs": [],
   "source": [
    "G = nx.from_numpy_matrix(adj_matrix)"
   ]
  },
  {
   "cell_type": "markdown",
   "metadata": {},
   "source": [
    " "
   ]
  },
  {
   "cell_type": "markdown",
   "metadata": {},
   "source": [
    "## GAT architecture"
   ]
  },
  {
   "cell_type": "code",
   "execution_count": 92,
   "metadata": {},
   "outputs": [],
   "source": [
    "from torch_geometric.data import Data\n",
    "from torch_geometric.nn import GATConv"
   ]
  },
  {
   "cell_type": "code",
   "execution_count": 150,
   "metadata": {},
   "outputs": [],
   "source": [
    "class GATClassifier(nn.Module):\n",
    "    def __init__(self, in_dim, hidden_dim, out_dim, num_heads, num_classes=2):\n",
    "        super().__init__()\n",
    "        \n",
    "        self.out_head = 1\n",
    "        self.out_dim = out_dim\n",
    "        \n",
    "        self.conv1 = GATConv(in_dim, hidden_dim, heads=num_heads, dropout=0.6)\n",
    "        self.conv2 = GATConv(hidden_dim * num_heads, out_dim, concat=False,\n",
    "                             heads=self.out_head, dropout=0.6)\n",
    "        \n",
    "        self.lstm = nn.LSTM(out_dim, 32, 1, batch_first=True, bidirectional=False)\n",
    "        self.fc = nn.Linear(32, num_classes)\n",
    "        \n",
    "    \n",
    "    def init_hidden(self, batch_size):\n",
    "        # (num_layers * num_directions, batch_size, hidden_size)\n",
    "        hidden = Variable(torch.zeros(1, batch_size, 32))\n",
    "        cell = Variable(torch.zeros(1, batch_size, 32))\n",
    "        return hidden, cell\n",
    "    \n",
    "\n",
    "    def forward(self, features, edge_index):\n",
    "        x = F.dropout(features, p=0.6, training=True)\n",
    "        x = self.conv1(x, edge_index)\n",
    "        x = F.elu(x)\n",
    "        x = F.dropout(x, p=0.6, training=True)\n",
    "        x = self.conv2(x, edge_index)\n",
    "        x = x.view(-1, x.size(0), self.out_dim)\n",
    "        \n",
    "        h_0, cell = self.init_hidden(x.size(0))  # initial h_0\n",
    "        \n",
    "        output, h_n = self.lstm(x, (h_0, cell))\n",
    "        \n",
    "        # many-to-many\n",
    "        output = self.fc(output)\n",
    "        \n",
    "        return output"
   ]
  },
  {
   "cell_type": "code",
   "execution_count": 151,
   "metadata": {},
   "outputs": [],
   "source": [
    "net = GATClassifier(in_dim=features.size()[1],\n",
    "                    hidden_dim=128,\n",
    "                    out_dim=64,\n",
    "                    num_heads=2,\n",
    "                    num_classes=2)"
   ]
  },
  {
   "cell_type": "code",
   "execution_count": 152,
   "metadata": {},
   "outputs": [],
   "source": [
    "features = np.array(features)\n",
    "features = torch.from_numpy(features)"
   ]
  },
  {
   "cell_type": "code",
   "execution_count": 153,
   "metadata": {},
   "outputs": [
    {
     "data": {
      "text/plain": [
       "torch.Size([21, 768])"
      ]
     },
     "execution_count": 153,
     "metadata": {},
     "output_type": "execute_result"
    }
   ],
   "source": [
    "features.size()"
   ]
  },
  {
   "cell_type": "code",
   "execution_count": 154,
   "metadata": {},
   "outputs": [],
   "source": [
    "e1_list = [e1 for e1, _ in list(G.edges)]\n",
    "e2_list = [e2 for _, e2 in list(G.edges)]\n",
    "\n",
    "edge_index = [e1_list, e2_list]\n",
    "edge_index = torch.tensor(edge_index)"
   ]
  },
  {
   "cell_type": "code",
   "execution_count": 155,
   "metadata": {},
   "outputs": [
    {
     "data": {
      "text/plain": [
       "torch.Size([2, 117])"
      ]
     },
     "execution_count": 155,
     "metadata": {},
     "output_type": "execute_result"
    }
   ],
   "source": [
    "edge_index.size()"
   ]
  },
  {
   "cell_type": "code",
   "execution_count": 156,
   "metadata": {},
   "outputs": [],
   "source": [
    "output = net(features, edge_index)"
   ]
  },
  {
   "cell_type": "code",
   "execution_count": 157,
   "metadata": {},
   "outputs": [
    {
     "data": {
      "text/plain": [
       "torch.Size([1, 21, 2])"
      ]
     },
     "execution_count": 157,
     "metadata": {},
     "output_type": "execute_result"
    }
   ],
   "source": [
    "output.shape"
   ]
  },
  {
   "cell_type": "code",
   "execution_count": 158,
   "metadata": {},
   "outputs": [
    {
     "data": {
      "text/plain": [
       "tensor([[[-0.1372, -0.0718],\n",
       "         [-0.1486, -0.0827],\n",
       "         [-0.0085, -0.2377],\n",
       "         [-0.2707, -0.1346],\n",
       "         [-0.0291, -0.3249],\n",
       "         [ 0.1115, -0.1386],\n",
       "         [ 0.0857, -0.2462],\n",
       "         [-0.1398, -0.2831],\n",
       "         [-0.0196, -0.0489],\n",
       "         [ 0.1478, -0.2591],\n",
       "         [ 0.0219, -0.2626],\n",
       "         [-0.0985, -0.2355],\n",
       "         [-0.1451, -0.2023],\n",
       "         [-0.1952, -0.2040],\n",
       "         [-0.2347, -0.1790],\n",
       "         [-0.1679, -0.1950],\n",
       "         [-0.1660, -0.1966],\n",
       "         [-0.1847, -0.1809],\n",
       "         [-0.1425, -0.2505],\n",
       "         [ 0.0766, -0.1208],\n",
       "         [-0.0404, -0.1236]]], grad_fn=<AddBackward0>)"
      ]
     },
     "execution_count": 158,
     "metadata": {},
     "output_type": "execute_result"
    }
   ],
   "source": [
    "output"
   ]
  },
  {
   "cell_type": "code",
   "execution_count": null,
   "metadata": {},
   "outputs": [],
   "source": []
  }
 ],
 "metadata": {
  "kernelspec": {
   "display_name": "PyTorch",
   "language": "python",
   "name": "pytorch"
  },
  "language_info": {
   "codemirror_mode": {
    "name": "ipython",
    "version": 3
   },
   "file_extension": ".py",
   "mimetype": "text/x-python",
   "name": "python",
   "nbconvert_exporter": "python",
   "pygments_lexer": "ipython3",
   "version": "3.6.10"
  }
 },
 "nbformat": 4,
 "nbformat_minor": 4
}
